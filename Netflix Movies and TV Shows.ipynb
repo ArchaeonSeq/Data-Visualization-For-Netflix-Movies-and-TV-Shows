{
 "cells": [
  {
   "cell_type": "code",
   "execution_count": 70,
   "id": "ce22c2b6",
   "metadata": {},
   "outputs": [],
   "source": [
    "#importing libraries\n",
    "import pandas as pd\n",
    "import numpy as np\n",
    "import matplotlib.pyplot as plt\n"
   ]
  },
  {
   "cell_type": "code",
   "execution_count": 71,
   "id": "721be091",
   "metadata": {},
   "outputs": [
    {
     "data": {
      "text/html": [
       "<div>\n",
       "<style scoped>\n",
       "    .dataframe tbody tr th:only-of-type {\n",
       "        vertical-align: middle;\n",
       "    }\n",
       "\n",
       "    .dataframe tbody tr th {\n",
       "        vertical-align: top;\n",
       "    }\n",
       "\n",
       "    .dataframe thead th {\n",
       "        text-align: right;\n",
       "    }\n",
       "</style>\n",
       "<table border=\"1\" class=\"dataframe\">\n",
       "  <thead>\n",
       "    <tr style=\"text-align: right;\">\n",
       "      <th></th>\n",
       "      <th>show_id</th>\n",
       "      <th>type</th>\n",
       "      <th>title</th>\n",
       "      <th>director</th>\n",
       "      <th>cast</th>\n",
       "      <th>country</th>\n",
       "      <th>date_added</th>\n",
       "      <th>release_year</th>\n",
       "      <th>rating</th>\n",
       "      <th>duration</th>\n",
       "      <th>listed_in</th>\n",
       "      <th>description</th>\n",
       "    </tr>\n",
       "  </thead>\n",
       "  <tbody>\n",
       "    <tr>\n",
       "      <th>0</th>\n",
       "      <td>s1</td>\n",
       "      <td>Movie</td>\n",
       "      <td>Dick Johnson Is Dead</td>\n",
       "      <td>Kirsten Johnson</td>\n",
       "      <td>NaN</td>\n",
       "      <td>United States</td>\n",
       "      <td>September 25, 2021</td>\n",
       "      <td>2020</td>\n",
       "      <td>PG-13</td>\n",
       "      <td>90 min</td>\n",
       "      <td>Documentaries</td>\n",
       "      <td>As her father nears the end of his life, filmm...</td>\n",
       "    </tr>\n",
       "    <tr>\n",
       "      <th>1</th>\n",
       "      <td>s2</td>\n",
       "      <td>TV Show</td>\n",
       "      <td>Blood &amp; Water</td>\n",
       "      <td>NaN</td>\n",
       "      <td>Ama Qamata, Khosi Ngema, Gail Mabalane, Thaban...</td>\n",
       "      <td>South Africa</td>\n",
       "      <td>September 24, 2021</td>\n",
       "      <td>2021</td>\n",
       "      <td>TV-MA</td>\n",
       "      <td>2 Seasons</td>\n",
       "      <td>International TV Shows, TV Dramas, TV Mysteries</td>\n",
       "      <td>After crossing paths at a party, a Cape Town t...</td>\n",
       "    </tr>\n",
       "    <tr>\n",
       "      <th>2</th>\n",
       "      <td>s3</td>\n",
       "      <td>TV Show</td>\n",
       "      <td>Ganglands</td>\n",
       "      <td>Julien Leclercq</td>\n",
       "      <td>Sami Bouajila, Tracy Gotoas, Samuel Jouy, Nabi...</td>\n",
       "      <td>NaN</td>\n",
       "      <td>September 24, 2021</td>\n",
       "      <td>2021</td>\n",
       "      <td>TV-MA</td>\n",
       "      <td>1 Season</td>\n",
       "      <td>Crime TV Shows, International TV Shows, TV Act...</td>\n",
       "      <td>To protect his family from a powerful drug lor...</td>\n",
       "    </tr>\n",
       "    <tr>\n",
       "      <th>3</th>\n",
       "      <td>s4</td>\n",
       "      <td>TV Show</td>\n",
       "      <td>Jailbirds New Orleans</td>\n",
       "      <td>NaN</td>\n",
       "      <td>NaN</td>\n",
       "      <td>NaN</td>\n",
       "      <td>September 24, 2021</td>\n",
       "      <td>2021</td>\n",
       "      <td>TV-MA</td>\n",
       "      <td>1 Season</td>\n",
       "      <td>Docuseries, Reality TV</td>\n",
       "      <td>Feuds, flirtations and toilet talk go down amo...</td>\n",
       "    </tr>\n",
       "    <tr>\n",
       "      <th>4</th>\n",
       "      <td>s5</td>\n",
       "      <td>TV Show</td>\n",
       "      <td>Kota Factory</td>\n",
       "      <td>NaN</td>\n",
       "      <td>Mayur More, Jitendra Kumar, Ranjan Raj, Alam K...</td>\n",
       "      <td>India</td>\n",
       "      <td>September 24, 2021</td>\n",
       "      <td>2021</td>\n",
       "      <td>TV-MA</td>\n",
       "      <td>2 Seasons</td>\n",
       "      <td>International TV Shows, Romantic TV Shows, TV ...</td>\n",
       "      <td>In a city of coaching centers known to train I...</td>\n",
       "    </tr>\n",
       "    <tr>\n",
       "      <th>5</th>\n",
       "      <td>s6</td>\n",
       "      <td>TV Show</td>\n",
       "      <td>Midnight Mass</td>\n",
       "      <td>Mike Flanagan</td>\n",
       "      <td>Kate Siegel, Zach Gilford, Hamish Linklater, H...</td>\n",
       "      <td>NaN</td>\n",
       "      <td>September 24, 2021</td>\n",
       "      <td>2021</td>\n",
       "      <td>TV-MA</td>\n",
       "      <td>1 Season</td>\n",
       "      <td>TV Dramas, TV Horror, TV Mysteries</td>\n",
       "      <td>The arrival of a charismatic young priest brin...</td>\n",
       "    </tr>\n",
       "    <tr>\n",
       "      <th>6</th>\n",
       "      <td>s7</td>\n",
       "      <td>Movie</td>\n",
       "      <td>My Little Pony: A New Generation</td>\n",
       "      <td>Robert Cullen, José Luis Ucha</td>\n",
       "      <td>Vanessa Hudgens, Kimiko Glenn, James Marsden, ...</td>\n",
       "      <td>NaN</td>\n",
       "      <td>September 24, 2021</td>\n",
       "      <td>2021</td>\n",
       "      <td>PG</td>\n",
       "      <td>91 min</td>\n",
       "      <td>Children &amp; Family Movies</td>\n",
       "      <td>Equestria's divided. But a bright-eyed hero be...</td>\n",
       "    </tr>\n",
       "    <tr>\n",
       "      <th>7</th>\n",
       "      <td>s8</td>\n",
       "      <td>Movie</td>\n",
       "      <td>Sankofa</td>\n",
       "      <td>Haile Gerima</td>\n",
       "      <td>Kofi Ghanaba, Oyafunmike Ogunlano, Alexandra D...</td>\n",
       "      <td>United States, Ghana, Burkina Faso, United Kin...</td>\n",
       "      <td>September 24, 2021</td>\n",
       "      <td>1993</td>\n",
       "      <td>TV-MA</td>\n",
       "      <td>125 min</td>\n",
       "      <td>Dramas, Independent Movies, International Movies</td>\n",
       "      <td>On a photo shoot in Ghana, an American model s...</td>\n",
       "    </tr>\n",
       "    <tr>\n",
       "      <th>8</th>\n",
       "      <td>s9</td>\n",
       "      <td>TV Show</td>\n",
       "      <td>The Great British Baking Show</td>\n",
       "      <td>Andy Devonshire</td>\n",
       "      <td>Mel Giedroyc, Sue Perkins, Mary Berry, Paul Ho...</td>\n",
       "      <td>United Kingdom</td>\n",
       "      <td>September 24, 2021</td>\n",
       "      <td>2021</td>\n",
       "      <td>TV-14</td>\n",
       "      <td>9 Seasons</td>\n",
       "      <td>British TV Shows, Reality TV</td>\n",
       "      <td>A talented batch of amateur bakers face off in...</td>\n",
       "    </tr>\n",
       "    <tr>\n",
       "      <th>9</th>\n",
       "      <td>s10</td>\n",
       "      <td>Movie</td>\n",
       "      <td>The Starling</td>\n",
       "      <td>Theodore Melfi</td>\n",
       "      <td>Melissa McCarthy, Chris O'Dowd, Kevin Kline, T...</td>\n",
       "      <td>United States</td>\n",
       "      <td>September 24, 2021</td>\n",
       "      <td>2021</td>\n",
       "      <td>PG-13</td>\n",
       "      <td>104 min</td>\n",
       "      <td>Comedies, Dramas</td>\n",
       "      <td>A woman adjusting to life after a loss contend...</td>\n",
       "    </tr>\n",
       "  </tbody>\n",
       "</table>\n",
       "</div>"
      ],
      "text/plain": [
       "  show_id     type                             title  \\\n",
       "0      s1    Movie              Dick Johnson Is Dead   \n",
       "1      s2  TV Show                     Blood & Water   \n",
       "2      s3  TV Show                         Ganglands   \n",
       "3      s4  TV Show             Jailbirds New Orleans   \n",
       "4      s5  TV Show                      Kota Factory   \n",
       "5      s6  TV Show                     Midnight Mass   \n",
       "6      s7    Movie  My Little Pony: A New Generation   \n",
       "7      s8    Movie                           Sankofa   \n",
       "8      s9  TV Show     The Great British Baking Show   \n",
       "9     s10    Movie                      The Starling   \n",
       "\n",
       "                        director  \\\n",
       "0                Kirsten Johnson   \n",
       "1                            NaN   \n",
       "2                Julien Leclercq   \n",
       "3                            NaN   \n",
       "4                            NaN   \n",
       "5                  Mike Flanagan   \n",
       "6  Robert Cullen, José Luis Ucha   \n",
       "7                   Haile Gerima   \n",
       "8                Andy Devonshire   \n",
       "9                 Theodore Melfi   \n",
       "\n",
       "                                                cast  \\\n",
       "0                                                NaN   \n",
       "1  Ama Qamata, Khosi Ngema, Gail Mabalane, Thaban...   \n",
       "2  Sami Bouajila, Tracy Gotoas, Samuel Jouy, Nabi...   \n",
       "3                                                NaN   \n",
       "4  Mayur More, Jitendra Kumar, Ranjan Raj, Alam K...   \n",
       "5  Kate Siegel, Zach Gilford, Hamish Linklater, H...   \n",
       "6  Vanessa Hudgens, Kimiko Glenn, James Marsden, ...   \n",
       "7  Kofi Ghanaba, Oyafunmike Ogunlano, Alexandra D...   \n",
       "8  Mel Giedroyc, Sue Perkins, Mary Berry, Paul Ho...   \n",
       "9  Melissa McCarthy, Chris O'Dowd, Kevin Kline, T...   \n",
       "\n",
       "                                             country          date_added  \\\n",
       "0                                      United States  September 25, 2021   \n",
       "1                                       South Africa  September 24, 2021   \n",
       "2                                                NaN  September 24, 2021   \n",
       "3                                                NaN  September 24, 2021   \n",
       "4                                              India  September 24, 2021   \n",
       "5                                                NaN  September 24, 2021   \n",
       "6                                                NaN  September 24, 2021   \n",
       "7  United States, Ghana, Burkina Faso, United Kin...  September 24, 2021   \n",
       "8                                     United Kingdom  September 24, 2021   \n",
       "9                                      United States  September 24, 2021   \n",
       "\n",
       "   release_year rating   duration  \\\n",
       "0          2020  PG-13     90 min   \n",
       "1          2021  TV-MA  2 Seasons   \n",
       "2          2021  TV-MA   1 Season   \n",
       "3          2021  TV-MA   1 Season   \n",
       "4          2021  TV-MA  2 Seasons   \n",
       "5          2021  TV-MA   1 Season   \n",
       "6          2021     PG     91 min   \n",
       "7          1993  TV-MA    125 min   \n",
       "8          2021  TV-14  9 Seasons   \n",
       "9          2021  PG-13    104 min   \n",
       "\n",
       "                                           listed_in  \\\n",
       "0                                      Documentaries   \n",
       "1    International TV Shows, TV Dramas, TV Mysteries   \n",
       "2  Crime TV Shows, International TV Shows, TV Act...   \n",
       "3                             Docuseries, Reality TV   \n",
       "4  International TV Shows, Romantic TV Shows, TV ...   \n",
       "5                 TV Dramas, TV Horror, TV Mysteries   \n",
       "6                           Children & Family Movies   \n",
       "7   Dramas, Independent Movies, International Movies   \n",
       "8                       British TV Shows, Reality TV   \n",
       "9                                   Comedies, Dramas   \n",
       "\n",
       "                                         description  \n",
       "0  As her father nears the end of his life, filmm...  \n",
       "1  After crossing paths at a party, a Cape Town t...  \n",
       "2  To protect his family from a powerful drug lor...  \n",
       "3  Feuds, flirtations and toilet talk go down amo...  \n",
       "4  In a city of coaching centers known to train I...  \n",
       "5  The arrival of a charismatic young priest brin...  \n",
       "6  Equestria's divided. But a bright-eyed hero be...  \n",
       "7  On a photo shoot in Ghana, an American model s...  \n",
       "8  A talented batch of amateur bakers face off in...  \n",
       "9  A woman adjusting to life after a loss contend...  "
      ]
     },
     "execution_count": 71,
     "metadata": {},
     "output_type": "execute_result"
    }
   ],
   "source": [
    "#importing dataset\n",
    "movies_and_tvshows = pd.read_csv('netflix_titles.csv')\n",
    "\n",
    "movies_and_tvshows.head(10)"
   ]
  },
  {
   "cell_type": "code",
   "execution_count": 72,
   "id": "b6b9f72a",
   "metadata": {},
   "outputs": [
    {
     "data": {
      "text/plain": [
       "show_id            0\n",
       "type               0\n",
       "title              0\n",
       "director        2634\n",
       "cast             825\n",
       "country          831\n",
       "date_added        10\n",
       "release_year       0\n",
       "rating             4\n",
       "duration           3\n",
       "listed_in          0\n",
       "description        0\n",
       "dtype: int64"
      ]
     },
     "execution_count": 72,
     "metadata": {},
     "output_type": "execute_result"
    }
   ],
   "source": [
    "movies_and_tvshows.isnull().sum()"
   ]
  },
  {
   "cell_type": "code",
   "execution_count": 73,
   "id": "0492b5c0",
   "metadata": {},
   "outputs": [
    {
     "data": {
      "text/plain": [
       "show_id           0\n",
       "type              0\n",
       "title             0\n",
       "director          0\n",
       "cast            825\n",
       "country         831\n",
       "date_added       10\n",
       "release_year      0\n",
       "rating            4\n",
       "duration          3\n",
       "listed_in         0\n",
       "description       0\n",
       "dtype: int64"
      ]
     },
     "execution_count": 73,
     "metadata": {},
     "output_type": "execute_result"
    }
   ],
   "source": [
    "movies_and_tvshows['director'].fillna(('None') , inplace = True)\n",
    "#check again to make sure\n",
    "movies_and_tvshows.isnull().sum()"
   ]
  },
  {
   "cell_type": "code",
   "execution_count": 74,
   "id": "8f935e14",
   "metadata": {},
   "outputs": [
    {
     "data": {
      "text/plain": [
       "show_id           0\n",
       "type              0\n",
       "title             0\n",
       "director          0\n",
       "cast              0\n",
       "country         831\n",
       "date_added       10\n",
       "release_year      0\n",
       "rating            4\n",
       "duration          3\n",
       "listed_in         0\n",
       "description       0\n",
       "dtype: int64"
      ]
     },
     "execution_count": 74,
     "metadata": {},
     "output_type": "execute_result"
    }
   ],
   "source": [
    "movies_and_tvshows['cast'].fillna(('None') , inplace = True)\n",
    "#check again to make sure\n",
    "movies_and_tvshows.isnull().sum()"
   ]
  },
  {
   "cell_type": "code",
   "execution_count": 75,
   "id": "57f9444c",
   "metadata": {},
   "outputs": [
    {
     "data": {
      "text/plain": [
       "show_id          0\n",
       "type             0\n",
       "title            0\n",
       "director         0\n",
       "cast             0\n",
       "country          0\n",
       "date_added      10\n",
       "release_year     0\n",
       "rating           4\n",
       "duration         3\n",
       "listed_in        0\n",
       "description      0\n",
       "dtype: int64"
      ]
     },
     "execution_count": 75,
     "metadata": {},
     "output_type": "execute_result"
    }
   ],
   "source": [
    "movies_and_tvshows['country'].fillna(('None') , inplace = True)\n",
    "#check again to make sure\n",
    "movies_and_tvshows.isnull().sum()"
   ]
  },
  {
   "cell_type": "code",
   "execution_count": 76,
   "id": "7057a8ec",
   "metadata": {},
   "outputs": [
    {
     "data": {
      "text/plain": [
       "show_id         0\n",
       "type            0\n",
       "title           0\n",
       "director        0\n",
       "cast            0\n",
       "country         0\n",
       "date_added      0\n",
       "release_year    0\n",
       "rating          0\n",
       "duration        0\n",
       "listed_in       0\n",
       "description     0\n",
       "dtype: int64"
      ]
     },
     "execution_count": 76,
     "metadata": {},
     "output_type": "execute_result"
    }
   ],
   "source": [
    "movies_and_tvshows.dropna(inplace = True)\n",
    "#check again to make sure\n",
    "movies_and_tvshows.isnull().sum()"
   ]
  },
  {
   "cell_type": "code",
   "execution_count": 77,
   "id": "39f2cbc3",
   "metadata": {},
   "outputs": [
    {
     "name": "stdout",
     "output_type": "stream",
     "text": [
      "<class 'pandas.core.frame.DataFrame'>\n",
      "Int64Index: 8790 entries, 0 to 8806\n",
      "Data columns (total 12 columns):\n",
      " #   Column        Non-Null Count  Dtype \n",
      "---  ------        --------------  ----- \n",
      " 0   show_id       8790 non-null   object\n",
      " 1   type          8790 non-null   object\n",
      " 2   title         8790 non-null   object\n",
      " 3   director      8790 non-null   object\n",
      " 4   cast          8790 non-null   object\n",
      " 5   country       8790 non-null   object\n",
      " 6   date_added    8790 non-null   object\n",
      " 7   release_year  8790 non-null   int64 \n",
      " 8   rating        8790 non-null   object\n",
      " 9   duration      8790 non-null   object\n",
      " 10  listed_in     8790 non-null   object\n",
      " 11  description   8790 non-null   object\n",
      "dtypes: int64(1), object(11)\n",
      "memory usage: 892.7+ KB\n"
     ]
    }
   ],
   "source": [
    "movies_and_tvshows.info()"
   ]
  },
  {
   "cell_type": "code",
   "execution_count": 78,
   "id": "95052f44",
   "metadata": {},
   "outputs": [
    {
     "data": {
      "text/html": [
       "<div>\n",
       "<style scoped>\n",
       "    .dataframe tbody tr th:only-of-type {\n",
       "        vertical-align: middle;\n",
       "    }\n",
       "\n",
       "    .dataframe tbody tr th {\n",
       "        vertical-align: top;\n",
       "    }\n",
       "\n",
       "    .dataframe thead th {\n",
       "        text-align: right;\n",
       "    }\n",
       "</style>\n",
       "<table border=\"1\" class=\"dataframe\">\n",
       "  <thead>\n",
       "    <tr style=\"text-align: right;\">\n",
       "      <th></th>\n",
       "      <th>release_year</th>\n",
       "    </tr>\n",
       "  </thead>\n",
       "  <tbody>\n",
       "    <tr>\n",
       "      <th>count</th>\n",
       "      <td>8790.000000</td>\n",
       "    </tr>\n",
       "    <tr>\n",
       "      <th>mean</th>\n",
       "      <td>2014.183163</td>\n",
       "    </tr>\n",
       "    <tr>\n",
       "      <th>std</th>\n",
       "      <td>8.825466</td>\n",
       "    </tr>\n",
       "    <tr>\n",
       "      <th>min</th>\n",
       "      <td>1925.000000</td>\n",
       "    </tr>\n",
       "    <tr>\n",
       "      <th>25%</th>\n",
       "      <td>2013.000000</td>\n",
       "    </tr>\n",
       "    <tr>\n",
       "      <th>50%</th>\n",
       "      <td>2017.000000</td>\n",
       "    </tr>\n",
       "    <tr>\n",
       "      <th>75%</th>\n",
       "      <td>2019.000000</td>\n",
       "    </tr>\n",
       "    <tr>\n",
       "      <th>max</th>\n",
       "      <td>2021.000000</td>\n",
       "    </tr>\n",
       "  </tbody>\n",
       "</table>\n",
       "</div>"
      ],
      "text/plain": [
       "       release_year\n",
       "count   8790.000000\n",
       "mean    2014.183163\n",
       "std        8.825466\n",
       "min     1925.000000\n",
       "25%     2013.000000\n",
       "50%     2017.000000\n",
       "75%     2019.000000\n",
       "max     2021.000000"
      ]
     },
     "execution_count": 78,
     "metadata": {},
     "output_type": "execute_result"
    }
   ],
   "source": [
    "movies_and_tvshows.describe()"
   ]
  },
  {
   "cell_type": "code",
   "execution_count": 79,
   "id": "a7bcb4a6",
   "metadata": {},
   "outputs": [
    {
     "data": {
      "text/plain": [
       "array(['Movie', 'TV Show'], dtype=object)"
      ]
     },
     "execution_count": 79,
     "metadata": {},
     "output_type": "execute_result"
    }
   ],
   "source": [
    "movies_and_tvshows.type.unique()\n"
   ]
  },
  {
   "cell_type": "code",
   "execution_count": null,
   "id": "5caec1e3",
   "metadata": {},
   "outputs": [],
   "source": []
  },
  {
   "cell_type": "code",
   "execution_count": 80,
   "id": "20af551d",
   "metadata": {},
   "outputs": [
    {
     "name": "stdout",
     "output_type": "stream",
     "text": [
      "Unique entries in the release_year column in  is: 74\n",
      "and the unique entries are: [2020 2021 1993 2018 1996 1998 1997 2010 2013 2017 1975 1978 1983 1987\n",
      " 2012 2001 2014 2002 2003 2004 2011 2008 2009 2007 2005 2006 1994 2015\n",
      " 2019 2016 1982 1989 1990 1991 1999 1986 1992 1984 1980 1961 2000 1995\n",
      " 1985 1976 1959 1988 1981 1972 1964 1945 1954 1979 1958 1956 1963 1970\n",
      " 1973 1925 1974 1960 1966 1971 1962 1969 1977 1967 1968 1965 1946 1942\n",
      " 1955 1944 1947 1943]\n"
     ]
    }
   ],
   "source": [
    "print(f'Unique entries in the release_year column in  is: {movies_and_tvshows.release_year.nunique()}')\n",
    "print(f'and the unique entries are: {movies_and_tvshows.release_year.unique()}')\n"
   ]
  },
  {
   "cell_type": "code",
   "execution_count": 81,
   "id": "6e66521e",
   "metadata": {},
   "outputs": [
    {
     "name": "stdout",
     "output_type": "stream",
     "text": [
      "Unique entries in the rating column in  is: 14\n",
      "and the unique entries are: ['PG-13' 'TV-MA' 'PG' 'TV-14' 'TV-PG' 'TV-Y' 'TV-Y7' 'R' 'TV-G' 'G'\n",
      " 'NC-17' 'NR' 'TV-Y7-FV' 'UR']\n"
     ]
    }
   ],
   "source": [
    "print(f'Unique entries in the rating column in  is: {movies_and_tvshows.rating.nunique()}')\n",
    "print(f'and the unique entries are: {movies_and_tvshows.rating.unique()}')\n"
   ]
  },
  {
   "cell_type": "code",
   "execution_count": 82,
   "id": "0fbb9dcb",
   "metadata": {},
   "outputs": [
    {
     "data": {
      "text/plain": [
       "0"
      ]
     },
     "execution_count": 82,
     "metadata": {},
     "output_type": "execute_result"
    }
   ],
   "source": [
    "movies_and_tvshows.duplicated().sum()"
   ]
  },
  {
   "cell_type": "markdown",
   "id": "885ee820",
   "metadata": {},
   "source": [
    "# Visualizations For All Time"
   ]
  },
  {
   "cell_type": "code",
   "execution_count": 83,
   "id": "616fdfdf",
   "metadata": {},
   "outputs": [],
   "source": [
    "movies_and_tvshows_copy = movies_and_tvshows.copy()\n",
    "movies_and_tvshows_type_TV_Show = movies_and_tvshows.copy()\n",
    "#movies_and_tvshows_year = movies_and_tvshows_year.groupby('release_year').sum()\n",
    "#movies_and_tvshows_year = pre_bestselling_book1.to_frame()\n",
    "#index = list(range(0,74))\n",
    "#movies_and_tvshows_year['index'] = index\n",
    "\n",
    "#movies_and_tvshows_year = movies_and_tvshows_year.set_index('index', append=True).reset_index(level=0)\n",
    "\n",
    "#movies_and_tvshows_year = movies_and_tvshows_year.sort_values(['release_year'],ascending=[False])\n",
    "#movies_and_tvshows_year.reset_index(drop=True, inplace=True)\n",
    "#movies_and_tvshows_year\n"
   ]
  },
  {
   "cell_type": "code",
   "execution_count": 84,
   "id": "b26f8566",
   "metadata": {},
   "outputs": [],
   "source": [
    "\n",
    "movies_and_tvshows_type_Movie = movies_and_tvshows_copy.loc[movies_and_tvshows_copy['type'] == 'Movie']\n",
    "a = movies_and_tvshows_type_Movie.type.count()\n",
    "\n",
    "movies_and_tvshows_type_TV_Show = movies_and_tvshows_copy.loc[movies_and_tvshows_copy['type'] == 'TV Show']\n",
    "b = movies_and_tvshows_type_TV_Show.type.count()\n",
    "\n",
    "\n",
    "\n",
    "y_axis = [a, b]\n",
    "x_axis = ['Movie', 'TV Show']"
   ]
  },
  {
   "cell_type": "code",
   "execution_count": 85,
   "id": "5abd94cb",
   "metadata": {},
   "outputs": [
    {
     "data": {
      "image/png": "[encoded data removed]",
      "text/plain": [
       "<Figure size 576x288 with 1 Axes>"
      ]
     },
     "metadata": {
      "needs_background": "light"
     },
     "output_type": "display_data"
    }
   ],
   "source": [
    "fig = plt.figure(figsize = (8, 4))\n",
    " \n",
    "plt.bar(x_axis, y_axis, color ='Green',\n",
    "        width = 0.5)\n",
    " \n",
    "plt.xlabel(\"Type\")\n",
    "plt.ylabel(\"Total over the years\")\n",
    "plt.title(\"Netflix Movies and TV Shows Total of All Times\")\n",
    "#plt.bar(x_axis, y_axis, color ='Green',\n",
    "#        width = 0.5, label = legend)\n",
    "#plt.legend(loc=\"best\")\n",
    "\n",
    "plt.show()\n",
    "\n"
   ]
  },
  {
   "cell_type": "markdown",
   "id": "c8e68130",
   "metadata": {},
   "source": [
    "Analyzing this bar chart showing the number of releases for TV shows and Movies of all time (1925 - 2021), we can see that Movies generally had a higher number of releases. "
   ]
  },
  {
   "cell_type": "code",
   "execution_count": 86,
   "id": "328fe26f",
   "metadata": {},
   "outputs": [],
   "source": [
    "movies_and_tvshows_rating = movies_and_tvshows.copy()\n",
    "movies_and_tvshows_rating1 = movies_and_tvshows_rating.loc[movies_and_tvshows_rating['rating'] == 'PG-13']\n",
    "c = movies_and_tvshows_rating1.rating.count()\n",
    "\n",
    "movies_and_tvshows_rating2 = movies_and_tvshows_rating.loc[movies_and_tvshows_rating['rating'] == 'TV-MA']\n",
    "d = movies_and_tvshows_rating2.rating.count()\n",
    "\n",
    "movies_and_tvshows_rating3 = movies_and_tvshows_rating.loc[movies_and_tvshows_rating['rating'] == 'PG']\n",
    "e = movies_and_tvshows_rating3.rating.count()\n",
    "\n",
    "movies_and_tvshows_rating4 = movies_and_tvshows_rating.loc[movies_and_tvshows_rating['rating'] == 'TV-14']\n",
    "f = movies_and_tvshows_rating4.rating.count()\n",
    "\n",
    "movies_and_tvshows_rating5 = movies_and_tvshows_rating.loc[movies_and_tvshows_rating['rating'] == 'TV-PG']\n",
    "g = movies_and_tvshows_rating5.rating.count()\n",
    "\n",
    "movies_and_tvshows_rating6 = movies_and_tvshows_rating.loc[movies_and_tvshows_rating['rating'] == 'TV-Y']\n",
    "h = movies_and_tvshows_rating6.rating.count()\n",
    "\n",
    "movies_and_tvshows_rating7 = movies_and_tvshows_rating.loc[movies_and_tvshows_rating['rating'] == 'TV-Y7']\n",
    "i = movies_and_tvshows_rating7.rating.count()\n",
    "\n",
    "movies_and_tvshows_rating8 = movies_and_tvshows_rating.loc[movies_and_tvshows_rating['rating'] == 'R']\n",
    "j = movies_and_tvshows_rating8.rating.count()\n",
    "\n",
    "movies_and_tvshows_rating9 = movies_and_tvshows_rating.loc[movies_and_tvshows_rating['rating'] == 'TV-G']\n",
    "k = movies_and_tvshows_rating9.rating.count()\n",
    "\n",
    "movies_and_tvshows_rating10 = movies_and_tvshows_rating.loc[movies_and_tvshows_rating['rating'] == 'G']\n",
    "l = movies_and_tvshows_rating10.rating.count()\n",
    "\n",
    "movies_and_tvshows_rating11 = movies_and_tvshows_rating.loc[movies_and_tvshows_rating['rating'] == 'NC-17']\n",
    "m = movies_and_tvshows_rating11.rating.count()\n",
    "\n",
    "movies_and_tvshows_rating12 = movies_and_tvshows_rating.loc[movies_and_tvshows_rating['rating'] == 'NR']\n",
    "n = movies_and_tvshows_rating12.rating.count()\n",
    "\n",
    "movies_and_tvshows_rating13 = movies_and_tvshows_rating.loc[movies_and_tvshows_rating['rating'] == 'TV-Y7-FV']\n",
    "o = movies_and_tvshows_rating13.rating.count()\n",
    "\n",
    "movies_and_tvshows_rating14 = movies_and_tvshows_rating.loc[movies_and_tvshows_rating['rating'] == 'UR']\n",
    "p = movies_and_tvshows_rating14.rating.count()\n",
    "\n",
    "\n",
    "\n",
    "y_axis1 = [c, d, e, f, g, h, i, j, k, l, m, n, o, p]\n",
    "x_axis1 = ['PG-13', 'TV-MA', 'PG', 'TV-14', 'TV-PG', 'TV-Y', 'TV-Y7', 'R', 'TV-G', 'G', 'NC-17', 'NR', 'TV-Y7-FV', 'UR']"
   ]
  },
  {
   "cell_type": "code",
   "execution_count": 87,
   "id": "516b4c03",
   "metadata": {},
   "outputs": [
    {
     "data": {
      "image/png": "[encoded data removed]",
      "text/plain": [
       "<Figure size 1152x864 with 1 Axes>"
      ]
     },
     "metadata": {
      "needs_background": "light"
     },
     "output_type": "display_data"
    }
   ],
   "source": [
    "fig = plt.figure(figsize = (16, 12))\n",
    " \n",
    "plt.bar(x_axis1, y_axis1, color ='Blue',\n",
    "        width = 0.5)\n",
    " \n",
    "plt.xlabel(\"Ratings\")\n",
    "plt.ylabel(\"Total over the years\")\n",
    "plt.title(\"Netflix Movies and TV Shows Ratings of All Times\")\n",
    "#plt.bar(x_axis, y_axis, color ='Green',\n",
    "#        width = 0.5, label = legend)\n",
    "#plt.legend(loc=\"best\")\n",
    "\n",
    "plt.show()\n",
    "\n"
   ]
  },
  {
   "cell_type": "markdown",
   "id": "53d0912f",
   "metadata": {},
   "source": [
    "Analyzing this bar chart showing the ratings of the TV shows and Movies released of all time (1925 to 2021), there is no discernable trend. But we can tell that the TV-MA had highest number of releases in the period while the UR had the lowest number of releases. "
   ]
  },
  {
   "cell_type": "markdown",
   "id": "3b2658ed",
   "metadata": {},
   "source": [
    "# Visualizations For 1900s"
   ]
  },
  {
   "cell_type": "code",
   "execution_count": 88,
   "id": "f0df38e6",
   "metadata": {},
   "outputs": [],
   "source": [
    "movies_and_tvshows_1900s_copy = movies_and_tvshows.copy()\n",
    "filter_list = [2000, 2001, 2002, 2003, 2004, 2005, 2006, 2007, 2008, 2009, 2010, 2011, 2012, 2013, 2014, 2015, 2016, 2017, 2018, 2019, 2020, 2021]"
   ]
  },
  {
   "cell_type": "code",
   "execution_count": null,
   "id": "17adc1e0",
   "metadata": {},
   "outputs": [],
   "source": []
  },
  {
   "cell_type": "code",
   "execution_count": 89,
   "id": "983754bc",
   "metadata": {},
   "outputs": [
    {
     "data": {
      "text/html": [
       "<div>\n",
       "<style scoped>\n",
       "    .dataframe tbody tr th:only-of-type {\n",
       "        vertical-align: middle;\n",
       "    }\n",
       "\n",
       "    .dataframe tbody tr th {\n",
       "        vertical-align: top;\n",
       "    }\n",
       "\n",
       "    .dataframe thead th {\n",
       "        text-align: right;\n",
       "    }\n",
       "</style>\n",
       "<table border=\"1\" class=\"dataframe\">\n",
       "  <thead>\n",
       "    <tr style=\"text-align: right;\">\n",
       "      <th></th>\n",
       "      <th>show_id</th>\n",
       "      <th>type</th>\n",
       "      <th>title</th>\n",
       "      <th>director</th>\n",
       "      <th>cast</th>\n",
       "      <th>country</th>\n",
       "      <th>date_added</th>\n",
       "      <th>release_year</th>\n",
       "      <th>rating</th>\n",
       "      <th>duration</th>\n",
       "      <th>listed_in</th>\n",
       "      <th>description</th>\n",
       "    </tr>\n",
       "  </thead>\n",
       "  <tbody>\n",
       "    <tr>\n",
       "      <th>7</th>\n",
       "      <td>s8</td>\n",
       "      <td>Movie</td>\n",
       "      <td>Sankofa</td>\n",
       "      <td>Haile Gerima</td>\n",
       "      <td>Kofi Ghanaba, Oyafunmike Ogunlano, Alexandra D...</td>\n",
       "      <td>United States, Ghana, Burkina Faso, United Kin...</td>\n",
       "      <td>September 24, 2021</td>\n",
       "      <td>1993</td>\n",
       "      <td>TV-MA</td>\n",
       "      <td>125 min</td>\n",
       "      <td>Dramas, Independent Movies, International Movies</td>\n",
       "      <td>On a photo shoot in Ghana, an American model s...</td>\n",
       "    </tr>\n",
       "    <tr>\n",
       "      <th>22</th>\n",
       "      <td>s23</td>\n",
       "      <td>Movie</td>\n",
       "      <td>Avvai Shanmughi</td>\n",
       "      <td>K.S. Ravikumar</td>\n",
       "      <td>Kamal Hassan, Meena, Gemini Ganesan, Heera Raj...</td>\n",
       "      <td>None</td>\n",
       "      <td>September 21, 2021</td>\n",
       "      <td>1996</td>\n",
       "      <td>TV-PG</td>\n",
       "      <td>161 min</td>\n",
       "      <td>Comedies, International Movies</td>\n",
       "      <td>Newly divorced and denied visitation rights wi...</td>\n",
       "    </tr>\n",
       "    <tr>\n",
       "      <th>24</th>\n",
       "      <td>s25</td>\n",
       "      <td>Movie</td>\n",
       "      <td>Jeans</td>\n",
       "      <td>S. Shankar</td>\n",
       "      <td>Prashanth, Aishwarya Rai Bachchan, Sri Lakshmi...</td>\n",
       "      <td>India</td>\n",
       "      <td>September 21, 2021</td>\n",
       "      <td>1998</td>\n",
       "      <td>TV-14</td>\n",
       "      <td>166 min</td>\n",
       "      <td>Comedies, International Movies, Romantic Movies</td>\n",
       "      <td>When the father of the man she loves insists t...</td>\n",
       "    </tr>\n",
       "    <tr>\n",
       "      <th>26</th>\n",
       "      <td>s27</td>\n",
       "      <td>Movie</td>\n",
       "      <td>Minsara Kanavu</td>\n",
       "      <td>Rajiv Menon</td>\n",
       "      <td>Arvind Swamy, Kajol, Prabhu Deva, Nassar, S.P....</td>\n",
       "      <td>None</td>\n",
       "      <td>September 21, 2021</td>\n",
       "      <td>1997</td>\n",
       "      <td>TV-PG</td>\n",
       "      <td>147 min</td>\n",
       "      <td>Comedies, International Movies, Music &amp; Musicals</td>\n",
       "      <td>A tangled love triangle ensues when a man fall...</td>\n",
       "    </tr>\n",
       "    <tr>\n",
       "      <th>41</th>\n",
       "      <td>s42</td>\n",
       "      <td>Movie</td>\n",
       "      <td>Jaws</td>\n",
       "      <td>Steven Spielberg</td>\n",
       "      <td>Roy Scheider, Robert Shaw, Richard Dreyfuss, L...</td>\n",
       "      <td>United States</td>\n",
       "      <td>September 16, 2021</td>\n",
       "      <td>1975</td>\n",
       "      <td>PG</td>\n",
       "      <td>124 min</td>\n",
       "      <td>Action &amp; Adventure, Classic Movies, Dramas</td>\n",
       "      <td>When an insatiable great white shark terrorize...</td>\n",
       "    </tr>\n",
       "    <tr>\n",
       "      <th>...</th>\n",
       "      <td>...</td>\n",
       "      <td>...</td>\n",
       "      <td>...</td>\n",
       "      <td>...</td>\n",
       "      <td>...</td>\n",
       "      <td>...</td>\n",
       "      <td>...</td>\n",
       "      <td>...</td>\n",
       "      <td>...</td>\n",
       "      <td>...</td>\n",
       "      <td>...</td>\n",
       "      <td>...</td>\n",
       "    </tr>\n",
       "    <tr>\n",
       "      <th>8745</th>\n",
       "      <td>s8746</td>\n",
       "      <td>Movie</td>\n",
       "      <td>Willy Wonka &amp; the Chocolate Factory</td>\n",
       "      <td>Mel Stuart</td>\n",
       "      <td>Gene Wilder, Jack Albertson, Peter Ostrum, Roy...</td>\n",
       "      <td>United States, East Germany, West Germany</td>\n",
       "      <td>January 1, 2020</td>\n",
       "      <td>1971</td>\n",
       "      <td>G</td>\n",
       "      <td>100 min</td>\n",
       "      <td>Children &amp; Family Movies, Classic Movies, Come...</td>\n",
       "      <td>Zany Willy Wonka causes a stir when he announc...</td>\n",
       "    </tr>\n",
       "    <tr>\n",
       "      <th>8748</th>\n",
       "      <td>s8749</td>\n",
       "      <td>Movie</td>\n",
       "      <td>Winter of Our Dreams</td>\n",
       "      <td>John Duigan</td>\n",
       "      <td>Judy Davis, Bryan Brown, Cathy Downes, Baz Luh...</td>\n",
       "      <td>Australia</td>\n",
       "      <td>November 1, 2016</td>\n",
       "      <td>1981</td>\n",
       "      <td>NR</td>\n",
       "      <td>86 min</td>\n",
       "      <td>Classic Movies, Dramas</td>\n",
       "      <td>After the death of a long-ago lover, married p...</td>\n",
       "    </tr>\n",
       "    <tr>\n",
       "      <th>8763</th>\n",
       "      <td>s8764</td>\n",
       "      <td>Movie</td>\n",
       "      <td>WWII: Report from the Aleutians</td>\n",
       "      <td>John Huston</td>\n",
       "      <td>None</td>\n",
       "      <td>United States</td>\n",
       "      <td>March 31, 2017</td>\n",
       "      <td>1943</td>\n",
       "      <td>TV-PG</td>\n",
       "      <td>45 min</td>\n",
       "      <td>Documentaries</td>\n",
       "      <td>Filmmaker John Huston narrates this Oscar-nomi...</td>\n",
       "    </tr>\n",
       "    <tr>\n",
       "      <th>8764</th>\n",
       "      <td>s8765</td>\n",
       "      <td>Movie</td>\n",
       "      <td>Wyatt Earp</td>\n",
       "      <td>Lawrence Kasdan</td>\n",
       "      <td>Kevin Costner, Dennis Quaid, Gene Hackman, Dav...</td>\n",
       "      <td>United States</td>\n",
       "      <td>January 1, 2020</td>\n",
       "      <td>1994</td>\n",
       "      <td>PG-13</td>\n",
       "      <td>191 min</td>\n",
       "      <td>Action &amp; Adventure</td>\n",
       "      <td>Legendary lawman Wyatt Earp is continually at ...</td>\n",
       "    </tr>\n",
       "    <tr>\n",
       "      <th>8792</th>\n",
       "      <td>s8793</td>\n",
       "      <td>Movie</td>\n",
       "      <td>Young Tiger</td>\n",
       "      <td>Mu Chu</td>\n",
       "      <td>Qiu Yuen, Charlie Chin, Jackie Chan, Hu Chin, ...</td>\n",
       "      <td>Hong Kong</td>\n",
       "      <td>November 1, 2016</td>\n",
       "      <td>1973</td>\n",
       "      <td>NR</td>\n",
       "      <td>81 min</td>\n",
       "      <td>Action &amp; Adventure, International Movies</td>\n",
       "      <td>Aided only by a tough female police officer, a...</td>\n",
       "    </tr>\n",
       "  </tbody>\n",
       "</table>\n",
       "<p>525 rows × 12 columns</p>\n",
       "</div>"
      ],
      "text/plain": [
       "     show_id   type                                title          director  \\\n",
       "7         s8  Movie                              Sankofa      Haile Gerima   \n",
       "22       s23  Movie                      Avvai Shanmughi    K.S. Ravikumar   \n",
       "24       s25  Movie                                Jeans        S. Shankar   \n",
       "26       s27  Movie                       Minsara Kanavu       Rajiv Menon   \n",
       "41       s42  Movie                                 Jaws  Steven Spielberg   \n",
       "...      ...    ...                                  ...               ...   \n",
       "8745   s8746  Movie  Willy Wonka & the Chocolate Factory        Mel Stuart   \n",
       "8748   s8749  Movie                 Winter of Our Dreams       John Duigan   \n",
       "8763   s8764  Movie      WWII: Report from the Aleutians       John Huston   \n",
       "8764   s8765  Movie                           Wyatt Earp   Lawrence Kasdan   \n",
       "8792   s8793  Movie                          Young Tiger            Mu Chu   \n",
       "\n",
       "                                                   cast  \\\n",
       "7     Kofi Ghanaba, Oyafunmike Ogunlano, Alexandra D...   \n",
       "22    Kamal Hassan, Meena, Gemini Ganesan, Heera Raj...   \n",
       "24    Prashanth, Aishwarya Rai Bachchan, Sri Lakshmi...   \n",
       "26    Arvind Swamy, Kajol, Prabhu Deva, Nassar, S.P....   \n",
       "41    Roy Scheider, Robert Shaw, Richard Dreyfuss, L...   \n",
       "...                                                 ...   \n",
       "8745  Gene Wilder, Jack Albertson, Peter Ostrum, Roy...   \n",
       "8748  Judy Davis, Bryan Brown, Cathy Downes, Baz Luh...   \n",
       "8763                                               None   \n",
       "8764  Kevin Costner, Dennis Quaid, Gene Hackman, Dav...   \n",
       "8792  Qiu Yuen, Charlie Chin, Jackie Chan, Hu Chin, ...   \n",
       "\n",
       "                                                country          date_added  \\\n",
       "7     United States, Ghana, Burkina Faso, United Kin...  September 24, 2021   \n",
       "22                                                 None  September 21, 2021   \n",
       "24                                                India  September 21, 2021   \n",
       "26                                                 None  September 21, 2021   \n",
       "41                                        United States  September 16, 2021   \n",
       "...                                                 ...                 ...   \n",
       "8745          United States, East Germany, West Germany     January 1, 2020   \n",
       "8748                                          Australia    November 1, 2016   \n",
       "8763                                      United States      March 31, 2017   \n",
       "8764                                      United States     January 1, 2020   \n",
       "8792                                          Hong Kong    November 1, 2016   \n",
       "\n",
       "      release_year rating duration  \\\n",
       "7             1993  TV-MA  125 min   \n",
       "22            1996  TV-PG  161 min   \n",
       "24            1998  TV-14  166 min   \n",
       "26            1997  TV-PG  147 min   \n",
       "41            1975     PG  124 min   \n",
       "...            ...    ...      ...   \n",
       "8745          1971      G  100 min   \n",
       "8748          1981     NR   86 min   \n",
       "8763          1943  TV-PG   45 min   \n",
       "8764          1994  PG-13  191 min   \n",
       "8792          1973     NR   81 min   \n",
       "\n",
       "                                              listed_in  \\\n",
       "7      Dramas, Independent Movies, International Movies   \n",
       "22                       Comedies, International Movies   \n",
       "24      Comedies, International Movies, Romantic Movies   \n",
       "26     Comedies, International Movies, Music & Musicals   \n",
       "41           Action & Adventure, Classic Movies, Dramas   \n",
       "...                                                 ...   \n",
       "8745  Children & Family Movies, Classic Movies, Come...   \n",
       "8748                             Classic Movies, Dramas   \n",
       "8763                                      Documentaries   \n",
       "8764                                 Action & Adventure   \n",
       "8792           Action & Adventure, International Movies   \n",
       "\n",
       "                                            description  \n",
       "7     On a photo shoot in Ghana, an American model s...  \n",
       "22    Newly divorced and denied visitation rights wi...  \n",
       "24    When the father of the man she loves insists t...  \n",
       "26    A tangled love triangle ensues when a man fall...  \n",
       "41    When an insatiable great white shark terrorize...  \n",
       "...                                                 ...  \n",
       "8745  Zany Willy Wonka causes a stir when he announc...  \n",
       "8748  After the death of a long-ago lover, married p...  \n",
       "8763  Filmmaker John Huston narrates this Oscar-nomi...  \n",
       "8764  Legendary lawman Wyatt Earp is continually at ...  \n",
       "8792  Aided only by a tough female police officer, a...  \n",
       "\n",
       "[525 rows x 12 columns]"
      ]
     },
     "execution_count": 89,
     "metadata": {},
     "output_type": "execute_result"
    }
   ],
   "source": [
    "movies_and_tvshows_1900s_copy.drop(movies_and_tvshows_copy.loc[movies_and_tvshows_copy['release_year'].isin(filter_list)].index, inplace=True)\n",
    "movies_and_tvshows_1900s_copy"
   ]
  },
  {
   "cell_type": "code",
   "execution_count": 90,
   "id": "d5ad1cc8",
   "metadata": {},
   "outputs": [],
   "source": [
    "movies_and_tvshows_1900s_type_Movie = movies_and_tvshows_1900s_copy.copy()\n",
    "movies_and_tvshows_1900s_type_TV_Show = movies_and_tvshows_1900s_copy.copy()\n",
    "movies_and_tvshows_1900s_type_Movie = movies_and_tvshows_1900s_copy.loc[movies_and_tvshows_1900s_copy['type'] == 'Movie']\n",
    "a1 = movies_and_tvshows_1900s_type_Movie.type.count()\n",
    "\n",
    "movies_and_tvshows_1900s_type_TV_Show = movies_and_tvshows_1900s_copy.loc[movies_and_tvshows_1900s_copy['type'] == 'TV Show']\n",
    "b1 = movies_and_tvshows_1900s_type_TV_Show.type.count()\n",
    "\n",
    "\n",
    "\n",
    "y_axis2 = [a1, b1]\n",
    "x_axis2 = ['Movie', 'TV Show']"
   ]
  },
  {
   "cell_type": "code",
   "execution_count": 91,
   "id": "148b4aae",
   "metadata": {},
   "outputs": [
    {
     "data": {
      "image/png": "[encoded data removed]",
      "text/plain": [
       "<Figure size 576x288 with 1 Axes>"
      ]
     },
     "metadata": {
      "needs_background": "light"
     },
     "output_type": "display_data"
    }
   ],
   "source": [
    "fig = plt.figure(figsize = (8, 4))\n",
    " \n",
    "plt.bar(x_axis2, y_axis2, color ='Pink',\n",
    "        width = 0.5)\n",
    " \n",
    "plt.xlabel(\"Type\")\n",
    "plt.ylabel(\"1900s Total\")\n",
    "plt.title(\"Netflix Movies and TV Shows Total of 1900s\")\n",
    "#plt.bar(x_axis, y_axis, color ='Green',\n",
    "#        width = 0.5, label = legend)\n",
    "#plt.legend(loc=\"best\")\n",
    "\n",
    "plt.show()\n",
    "\n"
   ]
  },
  {
   "cell_type": "markdown",
   "id": "2e0bffb2",
   "metadata": {},
   "source": [
    "Analyzing this bar chart showing the number of releases for TV shows and Movies in the 1900s century, we can see that Movies generally had a higher number of releases in that period. "
   ]
  },
  {
   "cell_type": "code",
   "execution_count": 92,
   "id": "bd7aabec",
   "metadata": {},
   "outputs": [],
   "source": [
    "movies_and_tvshows_rating = movies_and_tvshows_1900s_copy.copy()\n",
    "movies_and_tvshows_rating1 = movies_and_tvshows_rating.loc[movies_and_tvshows_rating['rating'] == 'PG-13']\n",
    "c = movies_and_tvshows_rating1.rating.count()\n",
    "\n",
    "movies_and_tvshows_rating2 = movies_and_tvshows_rating.loc[movies_and_tvshows_rating['rating'] == 'TV-MA']\n",
    "d = movies_and_tvshows_rating2.rating.count()\n",
    "\n",
    "movies_and_tvshows_rating3 = movies_and_tvshows_rating.loc[movies_and_tvshows_rating['rating'] == 'PG']\n",
    "e = movies_and_tvshows_rating3.rating.count()\n",
    "\n",
    "movies_and_tvshows_rating4 = movies_and_tvshows_rating.loc[movies_and_tvshows_rating['rating'] == 'TV-14']\n",
    "f = movies_and_tvshows_rating4.rating.count()\n",
    "\n",
    "movies_and_tvshows_rating5 = movies_and_tvshows_rating.loc[movies_and_tvshows_rating['rating'] == 'TV-PG']\n",
    "g = movies_and_tvshows_rating5.rating.count()\n",
    "\n",
    "movies_and_tvshows_rating6 = movies_and_tvshows_rating.loc[movies_and_tvshows_rating['rating'] == 'TV-Y']\n",
    "h = movies_and_tvshows_rating6.rating.count()\n",
    "\n",
    "movies_and_tvshows_rating7 = movies_and_tvshows_rating.loc[movies_and_tvshows_rating['rating'] == 'TV-Y7']\n",
    "i = movies_and_tvshows_rating7.rating.count()\n",
    "\n",
    "movies_and_tvshows_rating8 = movies_and_tvshows_rating.loc[movies_and_tvshows_rating['rating'] == 'R']\n",
    "j = movies_and_tvshows_rating8.rating.count()\n",
    "\n",
    "movies_and_tvshows_rating9 = movies_and_tvshows_rating.loc[movies_and_tvshows_rating['rating'] == 'TV-G']\n",
    "k = movies_and_tvshows_rating9.rating.count()\n",
    "\n",
    "movies_and_tvshows_rating10 = movies_and_tvshows_rating.loc[movies_and_tvshows_rating['rating'] == 'G']\n",
    "l = movies_and_tvshows_rating10.rating.count()\n",
    "\n",
    "movies_and_tvshows_rating11 = movies_and_tvshows_rating.loc[movies_and_tvshows_rating['rating'] == 'NC-17']\n",
    "m = movies_and_tvshows_rating11.rating.count()\n",
    "\n",
    "movies_and_tvshows_rating12 = movies_and_tvshows_rating.loc[movies_and_tvshows_rating['rating'] == 'NR']\n",
    "n = movies_and_tvshows_rating12.rating.count()\n",
    "\n",
    "movies_and_tvshows_rating13 = movies_and_tvshows_rating.loc[movies_and_tvshows_rating['rating'] == 'TV-Y7-FV']\n",
    "o = movies_and_tvshows_rating13.rating.count()\n",
    "\n",
    "movies_and_tvshows_rating14 = movies_and_tvshows_rating.loc[movies_and_tvshows_rating['rating'] == 'UR']\n",
    "p = movies_and_tvshows_rating14.rating.count()\n",
    "\n",
    "\n",
    "\n",
    "y_axis1 = [c, d, e, f, g, h, i, j, k, l, m, n, o, p]\n",
    "x_axis1 = ['PG-13', 'TV-MA', 'PG', 'TV-14', 'TV-PG', 'TV-Y', 'TV-Y7', 'R', 'TV-G', 'G', 'NC-17', 'NR', 'TV-Y7-FV', 'UR']"
   ]
  },
  {
   "cell_type": "code",
   "execution_count": 93,
   "id": "152f09ff",
   "metadata": {},
   "outputs": [
    {
     "data": {
      "image/png": "[encoded data removed]",
      "text/plain": [
       "<Figure size 1152x864 with 1 Axes>"
      ]
     },
     "metadata": {
      "needs_background": "light"
     },
     "output_type": "display_data"
    }
   ],
   "source": [
    "fig = plt.figure(figsize = (16, 12))\n",
    " \n",
    "plt.bar(x_axis1, y_axis1, color ='Purple',\n",
    "        width = 0.5)\n",
    " \n",
    "plt.xlabel(\"Ratings\")\n",
    "plt.ylabel(\"1900s Total\")\n",
    "plt.title(\"Netflix Movies and TV Shows Ratings of 1900s\")\n",
    "#plt.bar(x_axis, y_axis, color ='Green',\n",
    "#        width = 0.5, label = legend)\n",
    "#plt.legend(loc=\"best\")\n",
    "\n",
    "plt.show()\n",
    "\n"
   ]
  },
  {
   "cell_type": "markdown",
   "id": "a2153292",
   "metadata": {},
   "source": [
    "Analyzing this bar chart showing the ratings of the TV shows and Movies released in the 1900s century, there is no discernable trend. But we can tell that the TV-14 had highest number of releases in the period while the NC-17 had the lowest number of releases. "
   ]
  },
  {
   "cell_type": "code",
   "execution_count": null,
   "id": "e2800436",
   "metadata": {},
   "outputs": [],
   "source": []
  },
  {
   "cell_type": "code",
   "execution_count": null,
   "id": "93eac714",
   "metadata": {},
   "outputs": [],
   "source": []
  },
  {
   "cell_type": "markdown",
   "id": "96f8d573",
   "metadata": {},
   "source": [
    "# Visualizations for 2000s"
   ]
  },
  {
   "cell_type": "code",
   "execution_count": 94,
   "id": "4151bbfa",
   "metadata": {},
   "outputs": [
    {
     "data": {
      "text/html": [
       "<div>\n",
       "<style scoped>\n",
       "    .dataframe tbody tr th:only-of-type {\n",
       "        vertical-align: middle;\n",
       "    }\n",
       "\n",
       "    .dataframe tbody tr th {\n",
       "        vertical-align: top;\n",
       "    }\n",
       "\n",
       "    .dataframe thead th {\n",
       "        text-align: right;\n",
       "    }\n",
       "</style>\n",
       "<table border=\"1\" class=\"dataframe\">\n",
       "  <thead>\n",
       "    <tr style=\"text-align: right;\">\n",
       "      <th></th>\n",
       "      <th>show_id</th>\n",
       "      <th>type</th>\n",
       "      <th>title</th>\n",
       "      <th>director</th>\n",
       "      <th>cast</th>\n",
       "      <th>country</th>\n",
       "      <th>date_added</th>\n",
       "      <th>release_year</th>\n",
       "      <th>rating</th>\n",
       "      <th>duration</th>\n",
       "      <th>listed_in</th>\n",
       "      <th>description</th>\n",
       "    </tr>\n",
       "  </thead>\n",
       "  <tbody>\n",
       "    <tr>\n",
       "      <th>0</th>\n",
       "      <td>s1</td>\n",
       "      <td>Movie</td>\n",
       "      <td>Dick Johnson Is Dead</td>\n",
       "      <td>Kirsten Johnson</td>\n",
       "      <td>None</td>\n",
       "      <td>United States</td>\n",
       "      <td>September 25, 2021</td>\n",
       "      <td>2020</td>\n",
       "      <td>PG-13</td>\n",
       "      <td>90 min</td>\n",
       "      <td>Documentaries</td>\n",
       "      <td>As her father nears the end of his life, filmm...</td>\n",
       "    </tr>\n",
       "    <tr>\n",
       "      <th>1</th>\n",
       "      <td>s2</td>\n",
       "      <td>TV Show</td>\n",
       "      <td>Blood &amp; Water</td>\n",
       "      <td>None</td>\n",
       "      <td>Ama Qamata, Khosi Ngema, Gail Mabalane, Thaban...</td>\n",
       "      <td>South Africa</td>\n",
       "      <td>September 24, 2021</td>\n",
       "      <td>2021</td>\n",
       "      <td>TV-MA</td>\n",
       "      <td>2 Seasons</td>\n",
       "      <td>International TV Shows, TV Dramas, TV Mysteries</td>\n",
       "      <td>After crossing paths at a party, a Cape Town t...</td>\n",
       "    </tr>\n",
       "    <tr>\n",
       "      <th>2</th>\n",
       "      <td>s3</td>\n",
       "      <td>TV Show</td>\n",
       "      <td>Ganglands</td>\n",
       "      <td>Julien Leclercq</td>\n",
       "      <td>Sami Bouajila, Tracy Gotoas, Samuel Jouy, Nabi...</td>\n",
       "      <td>None</td>\n",
       "      <td>September 24, 2021</td>\n",
       "      <td>2021</td>\n",
       "      <td>TV-MA</td>\n",
       "      <td>1 Season</td>\n",
       "      <td>Crime TV Shows, International TV Shows, TV Act...</td>\n",
       "      <td>To protect his family from a powerful drug lor...</td>\n",
       "    </tr>\n",
       "    <tr>\n",
       "      <th>3</th>\n",
       "      <td>s4</td>\n",
       "      <td>TV Show</td>\n",
       "      <td>Jailbirds New Orleans</td>\n",
       "      <td>None</td>\n",
       "      <td>None</td>\n",
       "      <td>None</td>\n",
       "      <td>September 24, 2021</td>\n",
       "      <td>2021</td>\n",
       "      <td>TV-MA</td>\n",
       "      <td>1 Season</td>\n",
       "      <td>Docuseries, Reality TV</td>\n",
       "      <td>Feuds, flirtations and toilet talk go down amo...</td>\n",
       "    </tr>\n",
       "    <tr>\n",
       "      <th>4</th>\n",
       "      <td>s5</td>\n",
       "      <td>TV Show</td>\n",
       "      <td>Kota Factory</td>\n",
       "      <td>None</td>\n",
       "      <td>Mayur More, Jitendra Kumar, Ranjan Raj, Alam K...</td>\n",
       "      <td>India</td>\n",
       "      <td>September 24, 2021</td>\n",
       "      <td>2021</td>\n",
       "      <td>TV-MA</td>\n",
       "      <td>2 Seasons</td>\n",
       "      <td>International TV Shows, Romantic TV Shows, TV ...</td>\n",
       "      <td>In a city of coaching centers known to train I...</td>\n",
       "    </tr>\n",
       "    <tr>\n",
       "      <th>...</th>\n",
       "      <td>...</td>\n",
       "      <td>...</td>\n",
       "      <td>...</td>\n",
       "      <td>...</td>\n",
       "      <td>...</td>\n",
       "      <td>...</td>\n",
       "      <td>...</td>\n",
       "      <td>...</td>\n",
       "      <td>...</td>\n",
       "      <td>...</td>\n",
       "      <td>...</td>\n",
       "      <td>...</td>\n",
       "    </tr>\n",
       "    <tr>\n",
       "      <th>8802</th>\n",
       "      <td>s8803</td>\n",
       "      <td>Movie</td>\n",
       "      <td>Zodiac</td>\n",
       "      <td>David Fincher</td>\n",
       "      <td>Mark Ruffalo, Jake Gyllenhaal, Robert Downey J...</td>\n",
       "      <td>United States</td>\n",
       "      <td>November 20, 2019</td>\n",
       "      <td>2007</td>\n",
       "      <td>R</td>\n",
       "      <td>158 min</td>\n",
       "      <td>Cult Movies, Dramas, Thrillers</td>\n",
       "      <td>A political cartoonist, a crime reporter and a...</td>\n",
       "    </tr>\n",
       "    <tr>\n",
       "      <th>8803</th>\n",
       "      <td>s8804</td>\n",
       "      <td>TV Show</td>\n",
       "      <td>Zombie Dumb</td>\n",
       "      <td>None</td>\n",
       "      <td>None</td>\n",
       "      <td>None</td>\n",
       "      <td>July 1, 2019</td>\n",
       "      <td>2018</td>\n",
       "      <td>TV-Y7</td>\n",
       "      <td>2 Seasons</td>\n",
       "      <td>Kids' TV, Korean TV Shows, TV Comedies</td>\n",
       "      <td>While living alone in a spooky town, a young g...</td>\n",
       "    </tr>\n",
       "    <tr>\n",
       "      <th>8804</th>\n",
       "      <td>s8805</td>\n",
       "      <td>Movie</td>\n",
       "      <td>Zombieland</td>\n",
       "      <td>Ruben Fleischer</td>\n",
       "      <td>Jesse Eisenberg, Woody Harrelson, Emma Stone, ...</td>\n",
       "      <td>United States</td>\n",
       "      <td>November 1, 2019</td>\n",
       "      <td>2009</td>\n",
       "      <td>R</td>\n",
       "      <td>88 min</td>\n",
       "      <td>Comedies, Horror Movies</td>\n",
       "      <td>Looking to survive in a world taken over by zo...</td>\n",
       "    </tr>\n",
       "    <tr>\n",
       "      <th>8805</th>\n",
       "      <td>s8806</td>\n",
       "      <td>Movie</td>\n",
       "      <td>Zoom</td>\n",
       "      <td>Peter Hewitt</td>\n",
       "      <td>Tim Allen, Courteney Cox, Chevy Chase, Kate Ma...</td>\n",
       "      <td>United States</td>\n",
       "      <td>January 11, 2020</td>\n",
       "      <td>2006</td>\n",
       "      <td>PG</td>\n",
       "      <td>88 min</td>\n",
       "      <td>Children &amp; Family Movies, Comedies</td>\n",
       "      <td>Dragged from civilian life, a former superhero...</td>\n",
       "    </tr>\n",
       "    <tr>\n",
       "      <th>8806</th>\n",
       "      <td>s8807</td>\n",
       "      <td>Movie</td>\n",
       "      <td>Zubaan</td>\n",
       "      <td>Mozez Singh</td>\n",
       "      <td>Vicky Kaushal, Sarah-Jane Dias, Raaghav Chanan...</td>\n",
       "      <td>India</td>\n",
       "      <td>March 2, 2019</td>\n",
       "      <td>2015</td>\n",
       "      <td>TV-14</td>\n",
       "      <td>111 min</td>\n",
       "      <td>Dramas, International Movies, Music &amp; Musicals</td>\n",
       "      <td>A scrappy but poor boy worms his way into a ty...</td>\n",
       "    </tr>\n",
       "  </tbody>\n",
       "</table>\n",
       "<p>8265 rows × 12 columns</p>\n",
       "</div>"
      ],
      "text/plain": [
       "     show_id     type                  title         director  \\\n",
       "0         s1    Movie   Dick Johnson Is Dead  Kirsten Johnson   \n",
       "1         s2  TV Show          Blood & Water             None   \n",
       "2         s3  TV Show              Ganglands  Julien Leclercq   \n",
       "3         s4  TV Show  Jailbirds New Orleans             None   \n",
       "4         s5  TV Show           Kota Factory             None   \n",
       "...      ...      ...                    ...              ...   \n",
       "8802   s8803    Movie                 Zodiac    David Fincher   \n",
       "8803   s8804  TV Show            Zombie Dumb             None   \n",
       "8804   s8805    Movie             Zombieland  Ruben Fleischer   \n",
       "8805   s8806    Movie                   Zoom     Peter Hewitt   \n",
       "8806   s8807    Movie                 Zubaan      Mozez Singh   \n",
       "\n",
       "                                                   cast        country  \\\n",
       "0                                                  None  United States   \n",
       "1     Ama Qamata, Khosi Ngema, Gail Mabalane, Thaban...   South Africa   \n",
       "2     Sami Bouajila, Tracy Gotoas, Samuel Jouy, Nabi...           None   \n",
       "3                                                  None           None   \n",
       "4     Mayur More, Jitendra Kumar, Ranjan Raj, Alam K...          India   \n",
       "...                                                 ...            ...   \n",
       "8802  Mark Ruffalo, Jake Gyllenhaal, Robert Downey J...  United States   \n",
       "8803                                               None           None   \n",
       "8804  Jesse Eisenberg, Woody Harrelson, Emma Stone, ...  United States   \n",
       "8805  Tim Allen, Courteney Cox, Chevy Chase, Kate Ma...  United States   \n",
       "8806  Vicky Kaushal, Sarah-Jane Dias, Raaghav Chanan...          India   \n",
       "\n",
       "              date_added  release_year rating   duration  \\\n",
       "0     September 25, 2021          2020  PG-13     90 min   \n",
       "1     September 24, 2021          2021  TV-MA  2 Seasons   \n",
       "2     September 24, 2021          2021  TV-MA   1 Season   \n",
       "3     September 24, 2021          2021  TV-MA   1 Season   \n",
       "4     September 24, 2021          2021  TV-MA  2 Seasons   \n",
       "...                  ...           ...    ...        ...   \n",
       "8802   November 20, 2019          2007      R    158 min   \n",
       "8803        July 1, 2019          2018  TV-Y7  2 Seasons   \n",
       "8804    November 1, 2019          2009      R     88 min   \n",
       "8805    January 11, 2020          2006     PG     88 min   \n",
       "8806       March 2, 2019          2015  TV-14    111 min   \n",
       "\n",
       "                                              listed_in  \\\n",
       "0                                         Documentaries   \n",
       "1       International TV Shows, TV Dramas, TV Mysteries   \n",
       "2     Crime TV Shows, International TV Shows, TV Act...   \n",
       "3                                Docuseries, Reality TV   \n",
       "4     International TV Shows, Romantic TV Shows, TV ...   \n",
       "...                                                 ...   \n",
       "8802                     Cult Movies, Dramas, Thrillers   \n",
       "8803             Kids' TV, Korean TV Shows, TV Comedies   \n",
       "8804                            Comedies, Horror Movies   \n",
       "8805                 Children & Family Movies, Comedies   \n",
       "8806     Dramas, International Movies, Music & Musicals   \n",
       "\n",
       "                                            description  \n",
       "0     As her father nears the end of his life, filmm...  \n",
       "1     After crossing paths at a party, a Cape Town t...  \n",
       "2     To protect his family from a powerful drug lor...  \n",
       "3     Feuds, flirtations and toilet talk go down amo...  \n",
       "4     In a city of coaching centers known to train I...  \n",
       "...                                                 ...  \n",
       "8802  A political cartoonist, a crime reporter and a...  \n",
       "8803  While living alone in a spooky town, a young g...  \n",
       "8804  Looking to survive in a world taken over by zo...  \n",
       "8805  Dragged from civilian life, a former superhero...  \n",
       "8806  A scrappy but poor boy worms his way into a ty...  \n",
       "\n",
       "[8265 rows x 12 columns]"
      ]
     },
     "execution_count": 94,
     "metadata": {},
     "output_type": "execute_result"
    }
   ],
   "source": [
    "movies_and_tvshows_2000s_copy = movies_and_tvshows_copy.loc[movies_and_tvshows_copy['release_year'].isin(filter_list)]\n",
    "movies_and_tvshows_2000s_copy"
   ]
  },
  {
   "cell_type": "code",
   "execution_count": 95,
   "id": "a36535aa",
   "metadata": {},
   "outputs": [],
   "source": [
    "movies_and_tvshows_2000s_type_Movie = movies_and_tvshows_2000s_copy.copy()\n",
    "movies_and_tvshows_2000s_type_TV_Show = movies_and_tvshows_2000s_copy.copy()\n",
    "movies_and_tvshows_2000s_type_Movie = movies_and_tvshows_2000s_copy.loc[movies_and_tvshows_2000s_copy['type'] == 'Movie']\n",
    "a2 = movies_and_tvshows_2000s_type_Movie.type.count()\n",
    "\n",
    "movies_and_tvshows_2000s_type_TV_Show = movies_and_tvshows_2000s_copy.loc[movies_and_tvshows_2000s_copy['type'] == 'TV Show']\n",
    "b2 = movies_and_tvshows_2000s_type_TV_Show.type.count()\n",
    "\n",
    "\n",
    "\n",
    "y_axis2 = [a2, b2]\n",
    "x_axis2 = ['Movie', 'TV Show']"
   ]
  },
  {
   "cell_type": "code",
   "execution_count": 96,
   "id": "08a52004",
   "metadata": {},
   "outputs": [
    {
     "data": {
      "image/png": "[encoded data removed]",
      "text/plain": [
       "<Figure size 576x288 with 1 Axes>"
      ]
     },
     "metadata": {
      "needs_background": "light"
     },
     "output_type": "display_data"
    }
   ],
   "source": [
    "fig = plt.figure(figsize = (8, 4))\n",
    " \n",
    "plt.bar(x_axis2, y_axis2, color ='Orange',\n",
    "        width = 0.5)\n",
    " \n",
    "plt.xlabel(\"Type\")\n",
    "plt.ylabel(\"2000s Total\")\n",
    "plt.title(\"Netflix Movies and TV Shows Total of 2000s\")\n",
    "#plt.bar(x_axis, y_axis, color ='Green',\n",
    "#        width = 0.5, label = legend)\n",
    "#plt.legend(loc=\"best\")\n",
    "\n",
    "plt.show()\n",
    "\n"
   ]
  },
  {
   "cell_type": "markdown",
   "id": "2f8a5525",
   "metadata": {},
   "source": [
    "Analyzing this bar chart showing the number of releases for TV shows and Movies in the 2000s decade (2002 - 2001), we can see that Movies generally had a higher number of releases in that decade. "
   ]
  },
  {
   "cell_type": "code",
   "execution_count": 97,
   "id": "01bc97c7",
   "metadata": {},
   "outputs": [],
   "source": [
    "movies_and_tvshows_rating = movies_and_tvshows_2000s_copy.copy()\n",
    "movies_and_tvshows_rating1 = movies_and_tvshows_rating.loc[movies_and_tvshows_rating['rating'] == 'PG-13']\n",
    "c = movies_and_tvshows_rating1.rating.count()\n",
    "\n",
    "movies_and_tvshows_rating2 = movies_and_tvshows_rating.loc[movies_and_tvshows_rating['rating'] == 'TV-MA']\n",
    "d = movies_and_tvshows_rating2.rating.count()\n",
    "\n",
    "movies_and_tvshows_rating3 = movies_and_tvshows_rating.loc[movies_and_tvshows_rating['rating'] == 'PG']\n",
    "e = movies_and_tvshows_rating3.rating.count()\n",
    "\n",
    "movies_and_tvshows_rating4 = movies_and_tvshows_rating.loc[movies_and_tvshows_rating['rating'] == 'TV-14']\n",
    "f = movies_and_tvshows_rating4.rating.count()\n",
    "\n",
    "movies_and_tvshows_rating5 = movies_and_tvshows_rating.loc[movies_and_tvshows_rating['rating'] == 'TV-PG']\n",
    "g = movies_and_tvshows_rating5.rating.count()\n",
    "\n",
    "movies_and_tvshows_rating6 = movies_and_tvshows_rating.loc[movies_and_tvshows_rating['rating'] == 'TV-Y']\n",
    "h = movies_and_tvshows_rating6.rating.count()\n",
    "\n",
    "movies_and_tvshows_rating7 = movies_and_tvshows_rating.loc[movies_and_tvshows_rating['rating'] == 'TV-Y7']\n",
    "i = movies_and_tvshows_rating7.rating.count()\n",
    "\n",
    "movies_and_tvshows_rating8 = movies_and_tvshows_rating.loc[movies_and_tvshows_rating['rating'] == 'R']\n",
    "j = movies_and_tvshows_rating8.rating.count()\n",
    "\n",
    "movies_and_tvshows_rating9 = movies_and_tvshows_rating.loc[movies_and_tvshows_rating['rating'] == 'TV-G']\n",
    "k = movies_and_tvshows_rating9.rating.count()\n",
    "\n",
    "movies_and_tvshows_rating10 = movies_and_tvshows_rating.loc[movies_and_tvshows_rating['rating'] == 'G']\n",
    "l = movies_and_tvshows_rating10.rating.count()\n",
    "\n",
    "movies_and_tvshows_rating11 = movies_and_tvshows_rating.loc[movies_and_tvshows_rating['rating'] == 'NC-17']\n",
    "m = movies_and_tvshows_rating11.rating.count()\n",
    "\n",
    "movies_and_tvshows_rating12 = movies_and_tvshows_rating.loc[movies_and_tvshows_rating['rating'] == 'NR']\n",
    "n = movies_and_tvshows_rating12.rating.count()\n",
    "\n",
    "movies_and_tvshows_rating13 = movies_and_tvshows_rating.loc[movies_and_tvshows_rating['rating'] == 'TV-Y7-FV']\n",
    "o = movies_and_tvshows_rating13.rating.count()\n",
    "\n",
    "movies_and_tvshows_rating14 = movies_and_tvshows_rating.loc[movies_and_tvshows_rating['rating'] == 'UR']\n",
    "p = movies_and_tvshows_rating14.rating.count()\n",
    "\n",
    "\n",
    "\n",
    "y_axis1 = [c, d, e, f, g, h, i, j, k, l, m, n, o, p]\n",
    "x_axis1 = ['PG-13', 'TV-MA', 'PG', 'TV-14', 'TV-PG', 'TV-Y', 'TV-Y7', 'R', 'TV-G', 'G', 'NC-17', 'NR', 'TV-Y7-FV', 'UR']"
   ]
  },
  {
   "cell_type": "code",
   "execution_count": 98,
   "id": "1e473fe2",
   "metadata": {},
   "outputs": [
    {
     "data": {
      "image/png": "[encoded data removed]",
      "text/plain": [
       "<Figure size 1152x864 with 1 Axes>"
      ]
     },
     "metadata": {
      "needs_background": "light"
     },
     "output_type": "display_data"
    }
   ],
   "source": [
    "fig = plt.figure(figsize = (16, 12))\n",
    " \n",
    "plt.bar(x_axis1, y_axis1, color ='Magenta',\n",
    "        width = 0.5)\n",
    " \n",
    "plt.xlabel(\"Ratings\")\n",
    "plt.ylabel(\"2000s Total\")\n",
    "plt.title(\"Netflix Movies and TV Shows Ratings of 2000s\")\n",
    "#plt.bar(x_axis, y_axis, color ='Green',\n",
    "#        width = 0.5, label = legend)\n",
    "#plt.legend(loc=\"best\")\n",
    "\n",
    "plt.show()\n",
    "\n"
   ]
  },
  {
   "cell_type": "markdown",
   "id": "a8f4b1c8",
   "metadata": {},
   "source": [
    "Analyzing this bar chart showing the ratings of the TV shows and Movies released in the 2000s decade  (2002 - 2011), there is no discernable trend. But we can tell that the TV-MA had highest number of release in the decade while the UR had the lowest number of releases. "
   ]
  },
  {
   "cell_type": "code",
   "execution_count": null,
   "id": "ddc58c62",
   "metadata": {},
   "outputs": [],
   "source": []
  },
  {
   "cell_type": "code",
   "execution_count": 99,
   "id": "5ffa1b82",
   "metadata": {},
   "outputs": [
    {
     "data": {
      "text/plain": [
       "[2002, 2003, 2004, 2005, 2006, 2007, 2008, 2009, 2010, 2011]"
      ]
     },
     "execution_count": 99,
     "metadata": {},
     "output_type": "execute_result"
    }
   ],
   "source": [
    "filter_list3 = list(range(2002, 2012))\n",
    "filter_list3"
   ]
  },
  {
   "cell_type": "code",
   "execution_count": 100,
   "id": "0a8b1f56",
   "metadata": {},
   "outputs": [
    {
     "data": {
      "text/plain": [
       "[1992, 1993, 1994, 1995, 1996, 1997, 1998, 1999, 2000, 2001]"
      ]
     },
     "execution_count": 100,
     "metadata": {},
     "output_type": "execute_result"
    }
   ],
   "source": [
    "filter_list4 = list(range(1992, 2002))\n",
    "filter_list4"
   ]
  },
  {
   "cell_type": "code",
   "execution_count": 101,
   "id": "d4b0a471",
   "metadata": {},
   "outputs": [
    {
     "data": {
      "text/plain": [
       "[1982, 1983, 1984, 1985, 1986, 1987, 1988, 1989, 1990, 1991]"
      ]
     },
     "execution_count": 101,
     "metadata": {},
     "output_type": "execute_result"
    }
   ],
   "source": [
    "filter_list5 = list(range(1982, 1992))\n",
    "filter_list5"
   ]
  },
  {
   "cell_type": "code",
   "execution_count": 102,
   "id": "90288083",
   "metadata": {},
   "outputs": [
    {
     "data": {
      "text/plain": [
       "[1972, 1973, 1974, 1975, 1976, 1977, 1978, 1979, 1980, 1981]"
      ]
     },
     "execution_count": 102,
     "metadata": {},
     "output_type": "execute_result"
    }
   ],
   "source": [
    "filter_list6 = list(range(1972, 1982))\n",
    "filter_list6"
   ]
  },
  {
   "cell_type": "code",
   "execution_count": 103,
   "id": "a61ccf77",
   "metadata": {},
   "outputs": [
    {
     "data": {
      "text/plain": [
       "[1962, 1963, 1964, 1965, 1966, 1967, 1968, 1969, 1970, 1971]"
      ]
     },
     "execution_count": 103,
     "metadata": {},
     "output_type": "execute_result"
    }
   ],
   "source": [
    "filter_list7 = list(range(1962, 1972))\n",
    "filter_list7"
   ]
  },
  {
   "cell_type": "code",
   "execution_count": 104,
   "id": "fdc6cc0b",
   "metadata": {},
   "outputs": [
    {
     "data": {
      "text/plain": [
       "[1952, 1953, 1954, 1955, 1956, 1957, 1958, 1959, 1960, 1961]"
      ]
     },
     "execution_count": 104,
     "metadata": {},
     "output_type": "execute_result"
    }
   ],
   "source": [
    "filter_list8 = list(range(1952, 1962))\n",
    "filter_list8"
   ]
  },
  {
   "cell_type": "code",
   "execution_count": 105,
   "id": "e900d046",
   "metadata": {},
   "outputs": [
    {
     "data": {
      "text/plain": [
       "[1942, 1943, 1944, 1945, 1946, 1947, 1948, 1949, 1950, 1951]"
      ]
     },
     "execution_count": 105,
     "metadata": {},
     "output_type": "execute_result"
    }
   ],
   "source": [
    "filter_list9 = list(range(1942, 1952))\n",
    "filter_list9"
   ]
  },
  {
   "cell_type": "code",
   "execution_count": 106,
   "id": "13a8da28",
   "metadata": {},
   "outputs": [
    {
     "data": {
      "text/plain": [
       "[1932, 1933, 1934, 1935, 1936, 1937, 1938, 1939, 1940, 1941]"
      ]
     },
     "execution_count": 106,
     "metadata": {},
     "output_type": "execute_result"
    }
   ],
   "source": [
    "filter_list10 = list(range(1932, 1942))\n",
    "filter_list10"
   ]
  },
  {
   "cell_type": "code",
   "execution_count": 107,
   "id": "039facc9",
   "metadata": {},
   "outputs": [
    {
     "data": {
      "text/plain": [
       "[1922, 1923, 1924, 1925, 1926, 1927, 1928, 1929, 1930, 1931]"
      ]
     },
     "execution_count": 107,
     "metadata": {},
     "output_type": "execute_result"
    }
   ],
   "source": [
    "filter_list11 = list(range(1922, 1932))\n",
    "filter_list11"
   ]
  },
  {
   "cell_type": "code",
   "execution_count": null,
   "id": "51e0fbc4",
   "metadata": {},
   "outputs": [],
   "source": []
  },
  {
   "cell_type": "markdown",
   "id": "14901073",
   "metadata": {},
   "source": [
    "# Visualization For The Last Decade (2012 - 2021)"
   ]
  },
  {
   "cell_type": "code",
   "execution_count": 108,
   "id": "035b76b9",
   "metadata": {},
   "outputs": [
    {
     "data": {
      "text/html": [
       "<div>\n",
       "<style scoped>\n",
       "    .dataframe tbody tr th:only-of-type {\n",
       "        vertical-align: middle;\n",
       "    }\n",
       "\n",
       "    .dataframe tbody tr th {\n",
       "        vertical-align: top;\n",
       "    }\n",
       "\n",
       "    .dataframe thead th {\n",
       "        text-align: right;\n",
       "    }\n",
       "</style>\n",
       "<table border=\"1\" class=\"dataframe\">\n",
       "  <thead>\n",
       "    <tr style=\"text-align: right;\">\n",
       "      <th></th>\n",
       "      <th>show_id</th>\n",
       "      <th>type</th>\n",
       "      <th>title</th>\n",
       "      <th>director</th>\n",
       "      <th>cast</th>\n",
       "      <th>country</th>\n",
       "      <th>date_added</th>\n",
       "      <th>release_year</th>\n",
       "      <th>rating</th>\n",
       "      <th>duration</th>\n",
       "      <th>listed_in</th>\n",
       "      <th>description</th>\n",
       "    </tr>\n",
       "  </thead>\n",
       "  <tbody>\n",
       "    <tr>\n",
       "      <th>0</th>\n",
       "      <td>s1</td>\n",
       "      <td>Movie</td>\n",
       "      <td>Dick Johnson Is Dead</td>\n",
       "      <td>Kirsten Johnson</td>\n",
       "      <td>None</td>\n",
       "      <td>United States</td>\n",
       "      <td>September 25, 2021</td>\n",
       "      <td>2020</td>\n",
       "      <td>PG-13</td>\n",
       "      <td>90 min</td>\n",
       "      <td>Documentaries</td>\n",
       "      <td>As her father nears the end of his life, filmm...</td>\n",
       "    </tr>\n",
       "    <tr>\n",
       "      <th>1</th>\n",
       "      <td>s2</td>\n",
       "      <td>TV Show</td>\n",
       "      <td>Blood &amp; Water</td>\n",
       "      <td>None</td>\n",
       "      <td>Ama Qamata, Khosi Ngema, Gail Mabalane, Thaban...</td>\n",
       "      <td>South Africa</td>\n",
       "      <td>September 24, 2021</td>\n",
       "      <td>2021</td>\n",
       "      <td>TV-MA</td>\n",
       "      <td>2 Seasons</td>\n",
       "      <td>International TV Shows, TV Dramas, TV Mysteries</td>\n",
       "      <td>After crossing paths at a party, a Cape Town t...</td>\n",
       "    </tr>\n",
       "    <tr>\n",
       "      <th>2</th>\n",
       "      <td>s3</td>\n",
       "      <td>TV Show</td>\n",
       "      <td>Ganglands</td>\n",
       "      <td>Julien Leclercq</td>\n",
       "      <td>Sami Bouajila, Tracy Gotoas, Samuel Jouy, Nabi...</td>\n",
       "      <td>None</td>\n",
       "      <td>September 24, 2021</td>\n",
       "      <td>2021</td>\n",
       "      <td>TV-MA</td>\n",
       "      <td>1 Season</td>\n",
       "      <td>Crime TV Shows, International TV Shows, TV Act...</td>\n",
       "      <td>To protect his family from a powerful drug lor...</td>\n",
       "    </tr>\n",
       "    <tr>\n",
       "      <th>3</th>\n",
       "      <td>s4</td>\n",
       "      <td>TV Show</td>\n",
       "      <td>Jailbirds New Orleans</td>\n",
       "      <td>None</td>\n",
       "      <td>None</td>\n",
       "      <td>None</td>\n",
       "      <td>September 24, 2021</td>\n",
       "      <td>2021</td>\n",
       "      <td>TV-MA</td>\n",
       "      <td>1 Season</td>\n",
       "      <td>Docuseries, Reality TV</td>\n",
       "      <td>Feuds, flirtations and toilet talk go down amo...</td>\n",
       "    </tr>\n",
       "    <tr>\n",
       "      <th>4</th>\n",
       "      <td>s5</td>\n",
       "      <td>TV Show</td>\n",
       "      <td>Kota Factory</td>\n",
       "      <td>None</td>\n",
       "      <td>Mayur More, Jitendra Kumar, Ranjan Raj, Alam K...</td>\n",
       "      <td>India</td>\n",
       "      <td>September 24, 2021</td>\n",
       "      <td>2021</td>\n",
       "      <td>TV-MA</td>\n",
       "      <td>2 Seasons</td>\n",
       "      <td>International TV Shows, Romantic TV Shows, TV ...</td>\n",
       "      <td>In a city of coaching centers known to train I...</td>\n",
       "    </tr>\n",
       "    <tr>\n",
       "      <th>...</th>\n",
       "      <td>...</td>\n",
       "      <td>...</td>\n",
       "      <td>...</td>\n",
       "      <td>...</td>\n",
       "      <td>...</td>\n",
       "      <td>...</td>\n",
       "      <td>...</td>\n",
       "      <td>...</td>\n",
       "      <td>...</td>\n",
       "      <td>...</td>\n",
       "      <td>...</td>\n",
       "      <td>...</td>\n",
       "    </tr>\n",
       "    <tr>\n",
       "      <th>8798</th>\n",
       "      <td>s8799</td>\n",
       "      <td>Movie</td>\n",
       "      <td>Zed Plus</td>\n",
       "      <td>Chandra Prakash Dwivedi</td>\n",
       "      <td>Adil Hussain, Mona Singh, K.K. Raina, Sanjay M...</td>\n",
       "      <td>India</td>\n",
       "      <td>December 31, 2019</td>\n",
       "      <td>2014</td>\n",
       "      <td>TV-MA</td>\n",
       "      <td>131 min</td>\n",
       "      <td>Comedies, Dramas, International Movies</td>\n",
       "      <td>A philandering small-town mechanic's political...</td>\n",
       "    </tr>\n",
       "    <tr>\n",
       "      <th>8800</th>\n",
       "      <td>s8801</td>\n",
       "      <td>TV Show</td>\n",
       "      <td>Zindagi Gulzar Hai</td>\n",
       "      <td>None</td>\n",
       "      <td>Sanam Saeed, Fawad Khan, Ayesha Omer, Mehreen ...</td>\n",
       "      <td>Pakistan</td>\n",
       "      <td>December 15, 2016</td>\n",
       "      <td>2012</td>\n",
       "      <td>TV-PG</td>\n",
       "      <td>1 Season</td>\n",
       "      <td>International TV Shows, Romantic TV Shows, TV ...</td>\n",
       "      <td>Strong-willed, middle-class Kashaf and carefre...</td>\n",
       "    </tr>\n",
       "    <tr>\n",
       "      <th>8801</th>\n",
       "      <td>s8802</td>\n",
       "      <td>Movie</td>\n",
       "      <td>Zinzana</td>\n",
       "      <td>Majid Al Ansari</td>\n",
       "      <td>Ali Suliman, Saleh Bakri, Yasa, Ali Al-Jabri, ...</td>\n",
       "      <td>United Arab Emirates, Jordan</td>\n",
       "      <td>March 9, 2016</td>\n",
       "      <td>2015</td>\n",
       "      <td>TV-MA</td>\n",
       "      <td>96 min</td>\n",
       "      <td>Dramas, International Movies, Thrillers</td>\n",
       "      <td>Recovering alcoholic Talal wakes up inside a s...</td>\n",
       "    </tr>\n",
       "    <tr>\n",
       "      <th>8803</th>\n",
       "      <td>s8804</td>\n",
       "      <td>TV Show</td>\n",
       "      <td>Zombie Dumb</td>\n",
       "      <td>None</td>\n",
       "      <td>None</td>\n",
       "      <td>None</td>\n",
       "      <td>July 1, 2019</td>\n",
       "      <td>2018</td>\n",
       "      <td>TV-Y7</td>\n",
       "      <td>2 Seasons</td>\n",
       "      <td>Kids' TV, Korean TV Shows, TV Comedies</td>\n",
       "      <td>While living alone in a spooky town, a young g...</td>\n",
       "    </tr>\n",
       "    <tr>\n",
       "      <th>8806</th>\n",
       "      <td>s8807</td>\n",
       "      <td>Movie</td>\n",
       "      <td>Zubaan</td>\n",
       "      <td>Mozez Singh</td>\n",
       "      <td>Vicky Kaushal, Sarah-Jane Dias, Raaghav Chanan...</td>\n",
       "      <td>India</td>\n",
       "      <td>March 2, 2019</td>\n",
       "      <td>2015</td>\n",
       "      <td>TV-14</td>\n",
       "      <td>111 min</td>\n",
       "      <td>Dramas, International Movies, Music &amp; Musicals</td>\n",
       "      <td>A scrappy but poor boy worms his way into a ty...</td>\n",
       "    </tr>\n",
       "  </tbody>\n",
       "</table>\n",
       "<p>7081 rows × 12 columns</p>\n",
       "</div>"
      ],
      "text/plain": [
       "     show_id     type                  title                 director  \\\n",
       "0         s1    Movie   Dick Johnson Is Dead          Kirsten Johnson   \n",
       "1         s2  TV Show          Blood & Water                     None   \n",
       "2         s3  TV Show              Ganglands          Julien Leclercq   \n",
       "3         s4  TV Show  Jailbirds New Orleans                     None   \n",
       "4         s5  TV Show           Kota Factory                     None   \n",
       "...      ...      ...                    ...                      ...   \n",
       "8798   s8799    Movie               Zed Plus  Chandra Prakash Dwivedi   \n",
       "8800   s8801  TV Show     Zindagi Gulzar Hai                     None   \n",
       "8801   s8802    Movie                Zinzana          Majid Al Ansari   \n",
       "8803   s8804  TV Show            Zombie Dumb                     None   \n",
       "8806   s8807    Movie                 Zubaan              Mozez Singh   \n",
       "\n",
       "                                                   cast  \\\n",
       "0                                                  None   \n",
       "1     Ama Qamata, Khosi Ngema, Gail Mabalane, Thaban...   \n",
       "2     Sami Bouajila, Tracy Gotoas, Samuel Jouy, Nabi...   \n",
       "3                                                  None   \n",
       "4     Mayur More, Jitendra Kumar, Ranjan Raj, Alam K...   \n",
       "...                                                 ...   \n",
       "8798  Adil Hussain, Mona Singh, K.K. Raina, Sanjay M...   \n",
       "8800  Sanam Saeed, Fawad Khan, Ayesha Omer, Mehreen ...   \n",
       "8801  Ali Suliman, Saleh Bakri, Yasa, Ali Al-Jabri, ...   \n",
       "8803                                               None   \n",
       "8806  Vicky Kaushal, Sarah-Jane Dias, Raaghav Chanan...   \n",
       "\n",
       "                           country          date_added  release_year rating  \\\n",
       "0                    United States  September 25, 2021          2020  PG-13   \n",
       "1                     South Africa  September 24, 2021          2021  TV-MA   \n",
       "2                             None  September 24, 2021          2021  TV-MA   \n",
       "3                             None  September 24, 2021          2021  TV-MA   \n",
       "4                            India  September 24, 2021          2021  TV-MA   \n",
       "...                            ...                 ...           ...    ...   \n",
       "8798                         India   December 31, 2019          2014  TV-MA   \n",
       "8800                      Pakistan   December 15, 2016          2012  TV-PG   \n",
       "8801  United Arab Emirates, Jordan       March 9, 2016          2015  TV-MA   \n",
       "8803                          None        July 1, 2019          2018  TV-Y7   \n",
       "8806                         India       March 2, 2019          2015  TV-14   \n",
       "\n",
       "       duration                                          listed_in  \\\n",
       "0        90 min                                      Documentaries   \n",
       "1     2 Seasons    International TV Shows, TV Dramas, TV Mysteries   \n",
       "2      1 Season  Crime TV Shows, International TV Shows, TV Act...   \n",
       "3      1 Season                             Docuseries, Reality TV   \n",
       "4     2 Seasons  International TV Shows, Romantic TV Shows, TV ...   \n",
       "...         ...                                                ...   \n",
       "8798    131 min             Comedies, Dramas, International Movies   \n",
       "8800   1 Season  International TV Shows, Romantic TV Shows, TV ...   \n",
       "8801     96 min            Dramas, International Movies, Thrillers   \n",
       "8803  2 Seasons             Kids' TV, Korean TV Shows, TV Comedies   \n",
       "8806    111 min     Dramas, International Movies, Music & Musicals   \n",
       "\n",
       "                                            description  \n",
       "0     As her father nears the end of his life, filmm...  \n",
       "1     After crossing paths at a party, a Cape Town t...  \n",
       "2     To protect his family from a powerful drug lor...  \n",
       "3     Feuds, flirtations and toilet talk go down amo...  \n",
       "4     In a city of coaching centers known to train I...  \n",
       "...                                                 ...  \n",
       "8798  A philandering small-town mechanic's political...  \n",
       "8800  Strong-willed, middle-class Kashaf and carefre...  \n",
       "8801  Recovering alcoholic Talal wakes up inside a s...  \n",
       "8803  While living alone in a spooky town, a young g...  \n",
       "8806  A scrappy but poor boy worms his way into a ty...  \n",
       "\n",
       "[7081 rows x 12 columns]"
      ]
     },
     "execution_count": 108,
     "metadata": {},
     "output_type": "execute_result"
    }
   ],
   "source": [
    "filter_list1 = [2012, 2013, 2014, 2015, 2016, 2017, 2018, 2019, 2020, 2021]\n",
    "movies_and_tvshows_decade_from_2012 = movies_and_tvshows_copy.loc[movies_and_tvshows_copy['release_year'].isin(filter_list1)]\n",
    "movies_and_tvshows_decade_from_2012"
   ]
  },
  {
   "cell_type": "code",
   "execution_count": 109,
   "id": "008bdfd1",
   "metadata": {},
   "outputs": [],
   "source": [
    "movies_and_tvshows_decade_from_2012_type_Movie = movies_and_tvshows_decade_from_2012.copy()\n",
    "movies_and_tvshows_decade_from_2012_type_TV_Show = movies_and_tvshows_decade_from_2012.copy()\n",
    "movies_and_tvshows_decade_from_2012_type_Movie = movies_and_tvshows_decade_from_2012.loc[movies_and_tvshows_decade_from_2012['type'] == 'Movie']\n",
    "a2 = movies_and_tvshows_decade_from_2012_type_Movie.type.count()\n",
    "\n",
    "movies_and_tvshows_decade_from_2012_type_TV_Show = movies_and_tvshows_decade_from_2012.loc[movies_and_tvshows_decade_from_2012['type'] == 'TV Show']\n",
    "b2 = movies_and_tvshows_decade_from_2012_type_TV_Show.type.count()\n",
    "\n",
    "\n",
    "\n",
    "y_axis2 = [a2, b2]\n",
    "x_axis2 = ['Movie', 'TV Show']"
   ]
  },
  {
   "cell_type": "code",
   "execution_count": 110,
   "id": "c662b5ec",
   "metadata": {},
   "outputs": [
    {
     "data": {
      "image/png": "[encoded data removed]",
      "text/plain": [
       "<Figure size 576x288 with 1 Axes>"
      ]
     },
     "metadata": {
      "needs_background": "light"
     },
     "output_type": "display_data"
    }
   ],
   "source": [
    "fig = plt.figure(figsize = (8, 4))\n",
    " \n",
    "plt.bar(x_axis2, y_axis2, color ='Khaki',\n",
    "        width = 0.5)\n",
    " \n",
    "plt.xlabel(\"Type\")\n",
    "plt.ylabel(\"2010s Total\")\n",
    "plt.title(\"Netflix Movies and TV Shows Total of 2010s\")\n",
    "#plt.bar(x_axis, y_axis, color ='Green',\n",
    "#        width = 0.5, label = legend)\n",
    "#plt.legend(loc=\"best\")\n",
    "\n",
    "plt.show()"
   ]
  },
  {
   "cell_type": "markdown",
   "id": "d7bcc47d",
   "metadata": {},
   "source": [
    "Analyzing this bar chart showing the number of releases for TV shows and Movies in the 2010s decade (2012 - 2021) ,we can see that Movies generally had a higher number of releases in that decade. "
   ]
  },
  {
   "cell_type": "code",
   "execution_count": 111,
   "id": "c822e36f",
   "metadata": {},
   "outputs": [],
   "source": [
    "movies_and_tvshows_rating = movies_and_tvshows_decade_from_2012.copy()\n",
    "movies_and_tvshows_rating1 = movies_and_tvshows_rating.loc[movies_and_tvshows_rating['rating'] == 'PG-13']\n",
    "c = movies_and_tvshows_rating1.rating.count()\n",
    "\n",
    "movies_and_tvshows_rating2 = movies_and_tvshows_rating.loc[movies_and_tvshows_rating['rating'] == 'TV-MA']\n",
    "d = movies_and_tvshows_rating2.rating.count()\n",
    "\n",
    "movies_and_tvshows_rating3 = movies_and_tvshows_rating.loc[movies_and_tvshows_rating['rating'] == 'PG']\n",
    "e = movies_and_tvshows_rating3.rating.count()\n",
    "\n",
    "movies_and_tvshows_rating4 = movies_and_tvshows_rating.loc[movies_and_tvshows_rating['rating'] == 'TV-14']\n",
    "f = movies_and_tvshows_rating4.rating.count()\n",
    "\n",
    "movies_and_tvshows_rating5 = movies_and_tvshows_rating.loc[movies_and_tvshows_rating['rating'] == 'TV-PG']\n",
    "g = movies_and_tvshows_rating5.rating.count()\n",
    "\n",
    "movies_and_tvshows_rating6 = movies_and_tvshows_rating.loc[movies_and_tvshows_rating['rating'] == 'TV-Y']\n",
    "h = movies_and_tvshows_rating6.rating.count()\n",
    "\n",
    "movies_and_tvshows_rating7 = movies_and_tvshows_rating.loc[movies_and_tvshows_rating['rating'] == 'TV-Y7']\n",
    "i = movies_and_tvshows_rating7.rating.count()\n",
    "\n",
    "movies_and_tvshows_rating8 = movies_and_tvshows_rating.loc[movies_and_tvshows_rating['rating'] == 'R']\n",
    "j = movies_and_tvshows_rating8.rating.count()\n",
    "\n",
    "movies_and_tvshows_rating9 = movies_and_tvshows_rating.loc[movies_and_tvshows_rating['rating'] == 'TV-G']\n",
    "k = movies_and_tvshows_rating9.rating.count()\n",
    "\n",
    "movies_and_tvshows_rating10 = movies_and_tvshows_rating.loc[movies_and_tvshows_rating['rating'] == 'G']\n",
    "l = movies_and_tvshows_rating10.rating.count()\n",
    "\n",
    "movies_and_tvshows_rating11 = movies_and_tvshows_rating.loc[movies_and_tvshows_rating['rating'] == 'NC-17']\n",
    "m = movies_and_tvshows_rating11.rating.count()\n",
    "\n",
    "movies_and_tvshows_rating12 = movies_and_tvshows_rating.loc[movies_and_tvshows_rating['rating'] == 'NR']\n",
    "n = movies_and_tvshows_rating12.rating.count()\n",
    "\n",
    "movies_and_tvshows_rating13 = movies_and_tvshows_rating.loc[movies_and_tvshows_rating['rating'] == 'TV-Y7-FV']\n",
    "o = movies_and_tvshows_rating13.rating.count()\n",
    "\n",
    "movies_and_tvshows_rating14 = movies_and_tvshows_rating.loc[movies_and_tvshows_rating['rating'] == 'UR']\n",
    "p = movies_and_tvshows_rating14.rating.count()\n",
    "\n",
    "\n",
    "\n",
    "y_axis1 = [c, d, e, f, g, h, i, j, k, l, m, n, o, p]\n",
    "x_axis1 = ['PG-13', 'TV-MA', 'PG', 'TV-14', 'TV-PG', 'TV-Y', 'TV-Y7', 'R', 'TV-G', 'G', 'NC-17', 'NR', 'TV-Y7-FV', 'UR']"
   ]
  },
  {
   "cell_type": "code",
   "execution_count": 112,
   "id": "3a4e25bf",
   "metadata": {},
   "outputs": [
    {
     "data": {
      "image/png": "[encoded data removed]",
      "text/plain": [
       "<Figure size 1152x864 with 1 Axes>"
      ]
     },
     "metadata": {
      "needs_background": "light"
     },
     "output_type": "display_data"
    }
   ],
   "source": [
    "fig = plt.figure(figsize = (16, 12))\n",
    " \n",
    "plt.bar(x_axis1, y_axis1, color ='darkgreen',\n",
    "        width = 0.5)\n",
    " \n",
    "plt.xlabel(\"Ratings\")\n",
    "plt.ylabel(\"2010s Total\")\n",
    "plt.title(\"Netflix Movies and TV Shows Ratings of 2010s\")\n",
    "#plt.bar(x_axis, y_axis, color ='Green',\n",
    "#        width = 0.5, label = legend)\n",
    "#plt.legend(loc=\"best\")\n",
    "\n",
    "plt.show()\n",
    "\n"
   ]
  },
  {
   "cell_type": "markdown",
   "id": "a07a8ca6",
   "metadata": {},
   "source": [
    "Analyzing this bar chart showing the ratings of the TV shows and Movies released in the 2010s decade  (2012 - 2021), there is no discernable trend. But we can tell that the TV-MA had highest number of release in the decade while the UR had the lowest number of release. "
   ]
  },
  {
   "cell_type": "code",
   "execution_count": 113,
   "id": "c81e43fa",
   "metadata": {},
   "outputs": [],
   "source": [
    "\n",
    "movies_and_tvshows_type_Movie1 = movies_and_tvshows.loc[movies_and_tvshows['type'] == 'Movie']\n",
    "\n",
    "movies_and_tvshows_type_TV_Show1 = movies_and_tvshows.loc[movies_and_tvshows['type'] == 'TV Show']\n",
    "\n",
    "\n"
   ]
  },
  {
   "cell_type": "code",
   "execution_count": 114,
   "id": "367bf7f9",
   "metadata": {},
   "outputs": [
    {
     "data": {
      "text/html": [
       "<div>\n",
       "<style scoped>\n",
       "    .dataframe tbody tr th:only-of-type {\n",
       "        vertical-align: middle;\n",
       "    }\n",
       "\n",
       "    .dataframe tbody tr th {\n",
       "        vertical-align: top;\n",
       "    }\n",
       "\n",
       "    .dataframe thead th {\n",
       "        text-align: right;\n",
       "    }\n",
       "</style>\n",
       "<table border=\"1\" class=\"dataframe\">\n",
       "  <thead>\n",
       "    <tr style=\"text-align: right;\">\n",
       "      <th></th>\n",
       "      <th>show_id</th>\n",
       "      <th>type</th>\n",
       "      <th>title</th>\n",
       "      <th>director</th>\n",
       "      <th>cast</th>\n",
       "      <th>country</th>\n",
       "      <th>date_added</th>\n",
       "      <th>release_year</th>\n",
       "      <th>rating</th>\n",
       "      <th>duration</th>\n",
       "      <th>listed_in</th>\n",
       "      <th>description</th>\n",
       "    </tr>\n",
       "  </thead>\n",
       "  <tbody>\n",
       "    <tr>\n",
       "      <th>0</th>\n",
       "      <td>s1</td>\n",
       "      <td>Movie</td>\n",
       "      <td>Dick Johnson Is Dead</td>\n",
       "      <td>Kirsten Johnson</td>\n",
       "      <td>None</td>\n",
       "      <td>United States</td>\n",
       "      <td>September 25, 2021</td>\n",
       "      <td>2020</td>\n",
       "      <td>PG-13</td>\n",
       "      <td>90 min</td>\n",
       "      <td>Documentaries</td>\n",
       "      <td>As her father nears the end of his life, filmm...</td>\n",
       "    </tr>\n",
       "    <tr>\n",
       "      <th>6</th>\n",
       "      <td>s7</td>\n",
       "      <td>Movie</td>\n",
       "      <td>My Little Pony: A New Generation</td>\n",
       "      <td>Robert Cullen, José Luis Ucha</td>\n",
       "      <td>Vanessa Hudgens, Kimiko Glenn, James Marsden, ...</td>\n",
       "      <td>None</td>\n",
       "      <td>September 24, 2021</td>\n",
       "      <td>2021</td>\n",
       "      <td>PG</td>\n",
       "      <td>91 min</td>\n",
       "      <td>Children &amp; Family Movies</td>\n",
       "      <td>Equestria's divided. But a bright-eyed hero be...</td>\n",
       "    </tr>\n",
       "    <tr>\n",
       "      <th>7</th>\n",
       "      <td>s8</td>\n",
       "      <td>Movie</td>\n",
       "      <td>Sankofa</td>\n",
       "      <td>Haile Gerima</td>\n",
       "      <td>Kofi Ghanaba, Oyafunmike Ogunlano, Alexandra D...</td>\n",
       "      <td>United States, Ghana, Burkina Faso, United Kin...</td>\n",
       "      <td>September 24, 2021</td>\n",
       "      <td>1993</td>\n",
       "      <td>TV-MA</td>\n",
       "      <td>125 min</td>\n",
       "      <td>Dramas, Independent Movies, International Movies</td>\n",
       "      <td>On a photo shoot in Ghana, an American model s...</td>\n",
       "    </tr>\n",
       "    <tr>\n",
       "      <th>9</th>\n",
       "      <td>s10</td>\n",
       "      <td>Movie</td>\n",
       "      <td>The Starling</td>\n",
       "      <td>Theodore Melfi</td>\n",
       "      <td>Melissa McCarthy, Chris O'Dowd, Kevin Kline, T...</td>\n",
       "      <td>United States</td>\n",
       "      <td>September 24, 2021</td>\n",
       "      <td>2021</td>\n",
       "      <td>PG-13</td>\n",
       "      <td>104 min</td>\n",
       "      <td>Comedies, Dramas</td>\n",
       "      <td>A woman adjusting to life after a loss contend...</td>\n",
       "    </tr>\n",
       "    <tr>\n",
       "      <th>12</th>\n",
       "      <td>s13</td>\n",
       "      <td>Movie</td>\n",
       "      <td>Je Suis Karl</td>\n",
       "      <td>Christian Schwochow</td>\n",
       "      <td>Luna Wedler, Jannis Niewöhner, Milan Peschel, ...</td>\n",
       "      <td>Germany, Czech Republic</td>\n",
       "      <td>September 23, 2021</td>\n",
       "      <td>2021</td>\n",
       "      <td>TV-MA</td>\n",
       "      <td>127 min</td>\n",
       "      <td>Dramas, International Movies</td>\n",
       "      <td>After most of her family is murdered in a terr...</td>\n",
       "    </tr>\n",
       "    <tr>\n",
       "      <th>...</th>\n",
       "      <td>...</td>\n",
       "      <td>...</td>\n",
       "      <td>...</td>\n",
       "      <td>...</td>\n",
       "      <td>...</td>\n",
       "      <td>...</td>\n",
       "      <td>...</td>\n",
       "      <td>...</td>\n",
       "      <td>...</td>\n",
       "      <td>...</td>\n",
       "      <td>...</td>\n",
       "      <td>...</td>\n",
       "    </tr>\n",
       "    <tr>\n",
       "      <th>8801</th>\n",
       "      <td>s8802</td>\n",
       "      <td>Movie</td>\n",
       "      <td>Zinzana</td>\n",
       "      <td>Majid Al Ansari</td>\n",
       "      <td>Ali Suliman, Saleh Bakri, Yasa, Ali Al-Jabri, ...</td>\n",
       "      <td>United Arab Emirates, Jordan</td>\n",
       "      <td>March 9, 2016</td>\n",
       "      <td>2015</td>\n",
       "      <td>TV-MA</td>\n",
       "      <td>96 min</td>\n",
       "      <td>Dramas, International Movies, Thrillers</td>\n",
       "      <td>Recovering alcoholic Talal wakes up inside a s...</td>\n",
       "    </tr>\n",
       "    <tr>\n",
       "      <th>8802</th>\n",
       "      <td>s8803</td>\n",
       "      <td>Movie</td>\n",
       "      <td>Zodiac</td>\n",
       "      <td>David Fincher</td>\n",
       "      <td>Mark Ruffalo, Jake Gyllenhaal, Robert Downey J...</td>\n",
       "      <td>United States</td>\n",
       "      <td>November 20, 2019</td>\n",
       "      <td>2007</td>\n",
       "      <td>R</td>\n",
       "      <td>158 min</td>\n",
       "      <td>Cult Movies, Dramas, Thrillers</td>\n",
       "      <td>A political cartoonist, a crime reporter and a...</td>\n",
       "    </tr>\n",
       "    <tr>\n",
       "      <th>8804</th>\n",
       "      <td>s8805</td>\n",
       "      <td>Movie</td>\n",
       "      <td>Zombieland</td>\n",
       "      <td>Ruben Fleischer</td>\n",
       "      <td>Jesse Eisenberg, Woody Harrelson, Emma Stone, ...</td>\n",
       "      <td>United States</td>\n",
       "      <td>November 1, 2019</td>\n",
       "      <td>2009</td>\n",
       "      <td>R</td>\n",
       "      <td>88 min</td>\n",
       "      <td>Comedies, Horror Movies</td>\n",
       "      <td>Looking to survive in a world taken over by zo...</td>\n",
       "    </tr>\n",
       "    <tr>\n",
       "      <th>8805</th>\n",
       "      <td>s8806</td>\n",
       "      <td>Movie</td>\n",
       "      <td>Zoom</td>\n",
       "      <td>Peter Hewitt</td>\n",
       "      <td>Tim Allen, Courteney Cox, Chevy Chase, Kate Ma...</td>\n",
       "      <td>United States</td>\n",
       "      <td>January 11, 2020</td>\n",
       "      <td>2006</td>\n",
       "      <td>PG</td>\n",
       "      <td>88 min</td>\n",
       "      <td>Children &amp; Family Movies, Comedies</td>\n",
       "      <td>Dragged from civilian life, a former superhero...</td>\n",
       "    </tr>\n",
       "    <tr>\n",
       "      <th>8806</th>\n",
       "      <td>s8807</td>\n",
       "      <td>Movie</td>\n",
       "      <td>Zubaan</td>\n",
       "      <td>Mozez Singh</td>\n",
       "      <td>Vicky Kaushal, Sarah-Jane Dias, Raaghav Chanan...</td>\n",
       "      <td>India</td>\n",
       "      <td>March 2, 2019</td>\n",
       "      <td>2015</td>\n",
       "      <td>TV-14</td>\n",
       "      <td>111 min</td>\n",
       "      <td>Dramas, International Movies, Music &amp; Musicals</td>\n",
       "      <td>A scrappy but poor boy worms his way into a ty...</td>\n",
       "    </tr>\n",
       "  </tbody>\n",
       "</table>\n",
       "<p>6126 rows × 12 columns</p>\n",
       "</div>"
      ],
      "text/plain": [
       "     show_id   type                             title  \\\n",
       "0         s1  Movie              Dick Johnson Is Dead   \n",
       "6         s7  Movie  My Little Pony: A New Generation   \n",
       "7         s8  Movie                           Sankofa   \n",
       "9        s10  Movie                      The Starling   \n",
       "12       s13  Movie                      Je Suis Karl   \n",
       "...      ...    ...                               ...   \n",
       "8801   s8802  Movie                           Zinzana   \n",
       "8802   s8803  Movie                            Zodiac   \n",
       "8804   s8805  Movie                        Zombieland   \n",
       "8805   s8806  Movie                              Zoom   \n",
       "8806   s8807  Movie                            Zubaan   \n",
       "\n",
       "                           director  \\\n",
       "0                   Kirsten Johnson   \n",
       "6     Robert Cullen, José Luis Ucha   \n",
       "7                      Haile Gerima   \n",
       "9                    Theodore Melfi   \n",
       "12              Christian Schwochow   \n",
       "...                             ...   \n",
       "8801                Majid Al Ansari   \n",
       "8802                  David Fincher   \n",
       "8804                Ruben Fleischer   \n",
       "8805                   Peter Hewitt   \n",
       "8806                    Mozez Singh   \n",
       "\n",
       "                                                   cast  \\\n",
       "0                                                  None   \n",
       "6     Vanessa Hudgens, Kimiko Glenn, James Marsden, ...   \n",
       "7     Kofi Ghanaba, Oyafunmike Ogunlano, Alexandra D...   \n",
       "9     Melissa McCarthy, Chris O'Dowd, Kevin Kline, T...   \n",
       "12    Luna Wedler, Jannis Niewöhner, Milan Peschel, ...   \n",
       "...                                                 ...   \n",
       "8801  Ali Suliman, Saleh Bakri, Yasa, Ali Al-Jabri, ...   \n",
       "8802  Mark Ruffalo, Jake Gyllenhaal, Robert Downey J...   \n",
       "8804  Jesse Eisenberg, Woody Harrelson, Emma Stone, ...   \n",
       "8805  Tim Allen, Courteney Cox, Chevy Chase, Kate Ma...   \n",
       "8806  Vicky Kaushal, Sarah-Jane Dias, Raaghav Chanan...   \n",
       "\n",
       "                                                country          date_added  \\\n",
       "0                                         United States  September 25, 2021   \n",
       "6                                                  None  September 24, 2021   \n",
       "7     United States, Ghana, Burkina Faso, United Kin...  September 24, 2021   \n",
       "9                                         United States  September 24, 2021   \n",
       "12                              Germany, Czech Republic  September 23, 2021   \n",
       "...                                                 ...                 ...   \n",
       "8801                       United Arab Emirates, Jordan       March 9, 2016   \n",
       "8802                                      United States   November 20, 2019   \n",
       "8804                                      United States    November 1, 2019   \n",
       "8805                                      United States    January 11, 2020   \n",
       "8806                                              India       March 2, 2019   \n",
       "\n",
       "      release_year rating duration  \\\n",
       "0             2020  PG-13   90 min   \n",
       "6             2021     PG   91 min   \n",
       "7             1993  TV-MA  125 min   \n",
       "9             2021  PG-13  104 min   \n",
       "12            2021  TV-MA  127 min   \n",
       "...            ...    ...      ...   \n",
       "8801          2015  TV-MA   96 min   \n",
       "8802          2007      R  158 min   \n",
       "8804          2009      R   88 min   \n",
       "8805          2006     PG   88 min   \n",
       "8806          2015  TV-14  111 min   \n",
       "\n",
       "                                             listed_in  \\\n",
       "0                                        Documentaries   \n",
       "6                             Children & Family Movies   \n",
       "7     Dramas, Independent Movies, International Movies   \n",
       "9                                     Comedies, Dramas   \n",
       "12                        Dramas, International Movies   \n",
       "...                                                ...   \n",
       "8801           Dramas, International Movies, Thrillers   \n",
       "8802                    Cult Movies, Dramas, Thrillers   \n",
       "8804                           Comedies, Horror Movies   \n",
       "8805                Children & Family Movies, Comedies   \n",
       "8806    Dramas, International Movies, Music & Musicals   \n",
       "\n",
       "                                            description  \n",
       "0     As her father nears the end of his life, filmm...  \n",
       "6     Equestria's divided. But a bright-eyed hero be...  \n",
       "7     On a photo shoot in Ghana, an American model s...  \n",
       "9     A woman adjusting to life after a loss contend...  \n",
       "12    After most of her family is murdered in a terr...  \n",
       "...                                                 ...  \n",
       "8801  Recovering alcoholic Talal wakes up inside a s...  \n",
       "8802  A political cartoonist, a crime reporter and a...  \n",
       "8804  Looking to survive in a world taken over by zo...  \n",
       "8805  Dragged from civilian life, a former superhero...  \n",
       "8806  A scrappy but poor boy worms his way into a ty...  \n",
       "\n",
       "[6126 rows x 12 columns]"
      ]
     },
     "execution_count": 114,
     "metadata": {},
     "output_type": "execute_result"
    }
   ],
   "source": [
    "movies_and_tvshows_type_Movie1"
   ]
  },
  {
   "cell_type": "code",
   "execution_count": 115,
   "id": "4efa2e60",
   "metadata": {},
   "outputs": [
    {
     "data": {
      "text/plain": [
       "[173, 225, 264, 396, 658, 765, 767, 633, 517, 277]"
      ]
     },
     "execution_count": 115,
     "metadata": {},
     "output_type": "execute_result"
    }
   ],
   "source": [
    "movies_and_tvshows_type_Movie_2012 = movies_and_tvshows_type_Movie1.loc[movies_and_tvshows_type_Movie1['release_year'] == 2012]\n",
    "a = movies_and_tvshows_type_Movie_2012.type.count()\n",
    "\n",
    "\n",
    "movies_and_tvshows_type_Movie_2013 = movies_and_tvshows_type_Movie1.loc[movies_and_tvshows_type_Movie1['release_year'] == 2013]\n",
    "b = movies_and_tvshows_type_Movie_2013.type.count()\n",
    "\n",
    "movies_and_tvshows_type_Movie_2014 = movies_and_tvshows_type_Movie1.loc[movies_and_tvshows_type_Movie1['release_year'] == 2014]\n",
    "c = movies_and_tvshows_type_Movie_2014.type.count()\n",
    "\n",
    "movies_and_tvshows_type_Movie_2015 = movies_and_tvshows_type_Movie1.loc[movies_and_tvshows_type_Movie1['release_year'] == 2015]\n",
    "d = movies_and_tvshows_type_Movie_2015.type.count()\n",
    "\n",
    "movies_and_tvshows_type_Movie_2016 = movies_and_tvshows_type_Movie1.loc[movies_and_tvshows_type_Movie1['release_year'] == 2016]\n",
    "e = movies_and_tvshows_type_Movie_2016.type.count()\n",
    "\n",
    "movies_and_tvshows_type_Movie_2017 = movies_and_tvshows_type_Movie1.loc[movies_and_tvshows_type_Movie1['release_year'] == 2017]\n",
    "f = movies_and_tvshows_type_Movie_2017.type.count()\n",
    "\n",
    "movies_and_tvshows_type_Movie_2018 = movies_and_tvshows_type_Movie1.loc[movies_and_tvshows_type_Movie1['release_year'] == 2018]\n",
    "g = movies_and_tvshows_type_Movie_2018.type.count()\n",
    "\n",
    "movies_and_tvshows_type_Movie_2019 = movies_and_tvshows_type_Movie1.loc[movies_and_tvshows_type_Movie1['release_year'] == 2019]\n",
    "h = movies_and_tvshows_type_Movie_2019.type.count()\n",
    "\n",
    "movies_and_tvshows_type_Movie_2020 = movies_and_tvshows_type_Movie1.loc[movies_and_tvshows_type_Movie1['release_year'] == 2020]\n",
    "i = movies_and_tvshows_type_Movie_2020.type.count()\n",
    "\n",
    "movies_and_tvshows_type_Movie_2021 = movies_and_tvshows_type_Movie1.loc[movies_and_tvshows_type_Movie1['release_year'] == 2021]\n",
    "j = movies_and_tvshows_type_Movie_2021.type.count()\n",
    "\n",
    "y_axis1 = [a, b, c, d, e, f, g, h, i, j]\n",
    "y_axis1"
   ]
  },
  {
   "cell_type": "code",
   "execution_count": 116,
   "id": "7d1f315e",
   "metadata": {},
   "outputs": [
    {
     "data": {
      "text/plain": [
       "[63, 61, 88, 159, 243, 265, 379, 397, 436, 315]"
      ]
     },
     "execution_count": 116,
     "metadata": {},
     "output_type": "execute_result"
    }
   ],
   "source": [
    "movies_and_tvshows_type_TV_Show_2012 = movies_and_tvshows_type_TV_Show1.loc[movies_and_tvshows_type_TV_Show1['release_year'] == 2012]\n",
    "l = movies_and_tvshows_type_TV_Show_2012.type.count()\n",
    "\n",
    "movies_and_tvshows_type_TV_Show_2013 = movies_and_tvshows_type_TV_Show1.loc[movies_and_tvshows_type_TV_Show1['release_year'] == 2013]\n",
    "m = movies_and_tvshows_type_TV_Show_2013.type.count()\n",
    "\n",
    "movies_and_tvshows_type_TV_Show_2014 = movies_and_tvshows_type_TV_Show1.loc[movies_and_tvshows_type_TV_Show1['release_year'] == 2014]\n",
    "n = movies_and_tvshows_type_TV_Show_2014.type.count()\n",
    "\n",
    "movies_and_tvshows_type_TV_Show_2015 = movies_and_tvshows_type_TV_Show1.loc[movies_and_tvshows_type_TV_Show1['release_year'] == 2015]\n",
    "o = movies_and_tvshows_type_TV_Show_2015.type.count()\n",
    "\n",
    "movies_and_tvshows_type_TV_Show_2016 = movies_and_tvshows_type_TV_Show1.loc[movies_and_tvshows_type_TV_Show1['release_year'] == 2016]\n",
    "p = movies_and_tvshows_type_TV_Show_2016.type.count()\n",
    "\n",
    "movies_and_tvshows_type_TV_Show_2017 = movies_and_tvshows_type_TV_Show1.loc[movies_and_tvshows_type_TV_Show1['release_year'] == 2017]\n",
    "q = movies_and_tvshows_type_TV_Show_2017.type.count()\n",
    "\n",
    "movies_and_tvshows_type_TV_Show_2018 = movies_and_tvshows_type_TV_Show1.loc[movies_and_tvshows_type_TV_Show1['release_year'] == 2018]\n",
    "r = movies_and_tvshows_type_TV_Show_2018.type.count()\n",
    "\n",
    "movies_and_tvshows_type_TV_Show_2019 = movies_and_tvshows_type_TV_Show1.loc[movies_and_tvshows_type_TV_Show1['release_year'] == 2019]\n",
    "s = movies_and_tvshows_type_TV_Show_2019.type.count()\n",
    "\n",
    "movies_and_tvshows_type_TV_Show_2020 = movies_and_tvshows_type_TV_Show1.loc[movies_and_tvshows_type_TV_Show1['release_year'] == 2020]\n",
    "t = movies_and_tvshows_type_TV_Show_2020.type.count()\n",
    "\n",
    "movies_and_tvshows_type_TV_Show_2021 = movies_and_tvshows_type_TV_Show1.loc[movies_and_tvshows_type_TV_Show1['release_year'] == 2021]\n",
    "u = movies_and_tvshows_type_TV_Show_2021.type.count()\n",
    "\n",
    "y_axis2 = [l, m, n, o, p, q, r, s, t, u]\n",
    "y_axis2"
   ]
  },
  {
   "cell_type": "code",
   "execution_count": 117,
   "id": "20508f3a",
   "metadata": {},
   "outputs": [
    {
     "data": {
      "text/plain": [
       "[2012, 2013, 2014, 2015, 2016, 2017, 2018, 2019, 2020, 2021]"
      ]
     },
     "execution_count": 117,
     "metadata": {},
     "output_type": "execute_result"
    }
   ],
   "source": [
    "x_axis = filter_list1\n",
    "x_axis"
   ]
  },
  {
   "cell_type": "code",
   "execution_count": 118,
   "id": "ce55c5b4",
   "metadata": {},
   "outputs": [
    {
     "data": {
      "image/png": "[encoded data removed]",
      "text/plain": [
       "<Figure size 864x576 with 1 Axes>"
      ]
     },
     "metadata": {
      "needs_background": "light"
     },
     "output_type": "display_data"
    }
   ],
   "source": [
    "fig, ax = plt.subplots(figsize =(12, 8))\n",
    "ax.set_xlabel(\"Release_Year\")\n",
    "ax.set_ylabel(\"Movies And TV Shows\")\n",
    "ax.set_title(\"Movies and TV Shows Total  Over The Decade\")\n",
    "ax.plot(x_axis, y_axis1, marker = \"o\", linestyle = \"-\", color = \"Yellow\", label = \"Movies\")\n",
    "ax.plot(x_axis, y_axis2, marker = \"o\", linestyle = \"-\", color = \"Purple\", label = \"TV Shows\")\n",
    "plt.legend(loc=\"upper left\")\n",
    "plt.show()"
   ]
  },
  {
   "cell_type": "markdown",
   "id": "50d28bdc",
   "metadata": {},
   "source": [
    "Analyzing the decade from 2012 to 2021, this line chart shows a trend in both Movies and TV shows from the start to the end of the decade. Generally, the decade seem to see a general gradual increase in TV Shows releases with some slight deviations that can be seen in the slight decrease from 2020 to 2021 and also from 2012 to 2013. \n",
    "\n",
    "On the other hand, movies release of the decade shows a gradual increase from the year 2012 to the year 2018, then a gradual decrease from the year 2018 to the year 2021."
   ]
  },
  {
   "cell_type": "code",
   "execution_count": 119,
   "id": "49db70b1",
   "metadata": {},
   "outputs": [
    {
     "data": {
      "text/plain": [
       "([<matplotlib.axis.XTick at 0x207e33cb430>,\n",
       "  <matplotlib.axis.XTick at 0x207e33cb880>,\n",
       "  <matplotlib.axis.XTick at 0x207e34687c0>,\n",
       "  <matplotlib.axis.XTick at 0x207e3453250>,\n",
       "  <matplotlib.axis.XTick at 0x207e51caa00>,\n",
       "  <matplotlib.axis.XTick at 0x207e4e5b6a0>,\n",
       "  <matplotlib.axis.XTick at 0x207e3e29f70>,\n",
       "  <matplotlib.axis.XTick at 0x207e54a3880>,\n",
       "  <matplotlib.axis.XTick at 0x207e51b41f0>,\n",
       "  <matplotlib.axis.XTick at 0x207e54a3520>],\n",
       " [Text(0.25, 0, '2012'),\n",
       "  Text(1.25, 0, '2013'),\n",
       "  Text(2.25, 0, '2014'),\n",
       "  Text(3.25, 0, '2015'),\n",
       "  Text(4.25, 0, '2016'),\n",
       "  Text(5.25, 0, '2017'),\n",
       "  Text(6.25, 0, '2018'),\n",
       "  Text(7.25, 0, '2019'),\n",
       "  Text(8.25, 0, '2020'),\n",
       "  Text(9.25, 0, '2021')])"
      ]
     },
     "execution_count": 119,
     "metadata": {},
     "output_type": "execute_result"
    },
    {
     "data": {
      "image/png": "[encoded data removed]",
      "text/plain": [
       "<Figure size 864x576 with 2 Axes>"
      ]
     },
     "metadata": {
      "needs_background": "light"
     },
     "output_type": "display_data"
    }
   ],
   "source": [
    "fig, ax = plt.subplots(figsize =(12, 8))\n",
    "X = np.arange(10)\n",
    "ax = fig.add_axes([0,0,1,1])\n",
    "ax.bar(X + 0.00, y_axis1, color = 'Yellow', width = 0.25,  label = \"Movies\")\n",
    "ax.bar(X + 0.25, y_axis2, color = 'Purple', width = 0.25,  label = \"TV Shows\")\n",
    "plt.legend(loc=\"upper left\")\n",
    "ax.set_xlabel(\"Release_Year\")\n",
    "ax.set_ylabel(\"Movies And TV Shows\")\n",
    "ax.set_title(\"Movies and TV Shows Total  Over The Decade\")\n",
    "plt.xticks([r + 0.25 for r in range(10)], \n",
    "        [2012, 2013, 2014, 2015, 2016, 2017, 2018, 2019, 2020, 2021])"
   ]
  },
  {
   "cell_type": "markdown",
   "id": "194e89ac",
   "metadata": {},
   "source": [
    "Analyzing the decade from 2012 to 2021, this bar chart shows a trend in both Movies and TV shows from the start to the end of the decade. Generally, the decade seem to see a general gradual increase in TV Shows release with some slight deviations that can be seen in the slight decrease from 2020 to 2021 and also from 2012 to 2013. \n",
    "\n",
    "On the other hand, movies release of the decade shows a gradual increase from the year 2012 to the year 2018, then a gradual decrease from the year 2018 to the year 2021."
   ]
  },
  {
   "cell_type": "code",
   "execution_count": 120,
   "id": "8ff0fbf7",
   "metadata": {},
   "outputs": [
    {
     "data": {
      "text/plain": [
       "[4675, 902, 279, 134, 82, 25, 16, 13, 0, 0]"
      ]
     },
     "execution_count": 120,
     "metadata": {},
     "output_type": "execute_result"
    }
   ],
   "source": [
    "movies_and_tvshows_type_Movie_2010s = movies_and_tvshows_type_Movie1.loc[movies_and_tvshows_type_Movie1['release_year'].isin(filter_list1)]\n",
    "a = movies_and_tvshows_type_Movie_2010s.type.count()\n",
    "\n",
    "movies_and_tvshows_type_Movie_2000s = movies_and_tvshows_type_Movie1.loc[movies_and_tvshows_type_Movie1['release_year'].isin(filter_list3)]\n",
    "b = movies_and_tvshows_type_Movie_2000s.type.count()\n",
    "\n",
    "movies_and_tvshows_type_Movie_1990s = movies_and_tvshows_type_Movie1.loc[movies_and_tvshows_type_Movie1['release_year'].isin(filter_list4)]\n",
    "c = movies_and_tvshows_type_Movie_1990s.type.count()\n",
    "\n",
    "movies_and_tvshows_type_Movie_1980s = movies_and_tvshows_type_Movie1.loc[movies_and_tvshows_type_Movie1['release_year'].isin(filter_list5)]\n",
    "d = movies_and_tvshows_type_Movie_1980s.type.count()\n",
    "\n",
    "movies_and_tvshows_type_Movie_1970s = movies_and_tvshows_type_Movie1.loc[movies_and_tvshows_type_Movie1['release_year'].isin(filter_list6)]\n",
    "e = movies_and_tvshows_type_Movie_1970s.type.count()\n",
    "\n",
    "movies_and_tvshows_type_Movie_1960s = movies_and_tvshows_type_Movie1.loc[movies_and_tvshows_type_Movie1['release_year'].isin(filter_list7)]\n",
    "f = movies_and_tvshows_type_Movie_1960s.type.count()\n",
    "\n",
    "movies_and_tvshows_type_Movie_1950s = movies_and_tvshows_type_Movie1.loc[movies_and_tvshows_type_Movie1['release_year'].isin(filter_list8)]\n",
    "g = movies_and_tvshows_type_Movie_1950s.type.count()\n",
    "\n",
    "movies_and_tvshows_type_Movie_1940s = movies_and_tvshows_type_Movie1.loc[movies_and_tvshows_type_Movie1['release_year'].isin(filter_list9)]\n",
    "h = movies_and_tvshows_type_Movie_1940s.type.count()\n",
    "\n",
    "movies_and_tvshows_type_Movie_1930s = movies_and_tvshows_type_Movie1.loc[movies_and_tvshows_type_Movie1['release_year'].isin(filter_list10)]\n",
    "i = movies_and_tvshows_type_Movie_1930s.type.count()\n",
    "\n",
    "movies_and_tvshows_type_Movie_1920s = movies_and_tvshows_type_Movie1.loc[movies_and_tvshows_type_Movie1['release_year'].isin(filter_list11)]\n",
    "j = movies_and_tvshows_type_Movie_1920s.type.count()\n",
    "\n",
    "y_axis1 = [a, b, c, d, e, f, g, h, i, j]\n",
    "y_axis1"
   ]
  },
  {
   "cell_type": "code",
   "execution_count": 121,
   "id": "3f68b30d",
   "metadata": {},
   "outputs": [
    {
     "data": {
      "text/plain": [
       "[2406, 200, 38, 10, 5, 2, 0, 2, 0, 1]"
      ]
     },
     "execution_count": 121,
     "metadata": {},
     "output_type": "execute_result"
    }
   ],
   "source": [
    "movies_and_tvshows_type_TV_2010s = movies_and_tvshows_type_TV_Show1.loc[movies_and_tvshows_type_TV_Show1['release_year'].isin(filter_list1)]\n",
    "l = movies_and_tvshows_type_TV_2010s.type.count()\n",
    "\n",
    "movies_and_tvshows_type_TV_2000s = movies_and_tvshows_type_TV_Show1.loc[movies_and_tvshows_type_TV_Show1['release_year'].isin(filter_list3)]\n",
    "m = movies_and_tvshows_type_TV_2000s.type.count()\n",
    "\n",
    "movies_and_tvshows_type_TV_1990s = movies_and_tvshows_type_TV_Show1.loc[movies_and_tvshows_type_TV_Show1['release_year'].isin(filter_list4)]\n",
    "n = movies_and_tvshows_type_TV_1990s.type.count()\n",
    "\n",
    "movies_and_tvshows_type_TV_1980s = movies_and_tvshows_type_TV_Show1.loc[movies_and_tvshows_type_TV_Show1['release_year'].isin(filter_list5)]\n",
    "o = movies_and_tvshows_type_TV_1980s.type.count()\n",
    "\n",
    "movies_and_tvshows_type_TV_1970s = movies_and_tvshows_type_TV_Show1.loc[movies_and_tvshows_type_TV_Show1['release_year'].isin(filter_list6)]\n",
    "p = movies_and_tvshows_type_TV_1970s.type.count()\n",
    "\n",
    "movies_and_tvshows_type_TV_1960s = movies_and_tvshows_type_TV_Show1.loc[movies_and_tvshows_type_TV_Show1['release_year'].isin(filter_list7)]\n",
    "q = movies_and_tvshows_type_TV_1960s.type.count()\n",
    "\n",
    "movies_and_tvshows_type_TV_1950s = movies_and_tvshows_type_TV_Show1.loc[movies_and_tvshows_type_TV_Show1['release_year'].isin(filter_list8)]\n",
    "r = movies_and_tvshows_type_TV_1950s.type.count()\n",
    "\n",
    "movies_and_tvshows_type_TV_1940s = movies_and_tvshows_type_TV_Show1.loc[movies_and_tvshows_type_TV_Show1['release_year'].isin(filter_list9)]\n",
    "s = movies_and_tvshows_type_TV_1940s.type.count()\n",
    "\n",
    "movies_and_tvshows_type_TV_1930s = movies_and_tvshows_type_TV_Show1.loc[movies_and_tvshows_type_TV_Show1['release_year'].isin(filter_list10)]\n",
    "t = movies_and_tvshows_type_TV_1930s.type.count()\n",
    "\n",
    "movies_and_tvshows_type_TV_1920s = movies_and_tvshows_type_TV_Show1.loc[movies_and_tvshows_type_TV_Show1['release_year'].isin(filter_list11)]\n",
    "u = movies_and_tvshows_type_TV_1920s.type.count()\n",
    "\n",
    "y_axis2 = [l, m, n, o, p, q, r, s, t, u]\n",
    "y_axis2"
   ]
  },
  {
   "cell_type": "code",
   "execution_count": 122,
   "id": "fd7e6d6e",
   "metadata": {},
   "outputs": [
    {
     "data": {
      "text/plain": [
       "['2010s',\n",
       " '2000s',\n",
       " '1990s',\n",
       " '1980s',\n",
       " '1970s',\n",
       " '1960s',\n",
       " '1950s',\n",
       " '1940s',\n",
       " '1930s',\n",
       " '1920s']"
      ]
     },
     "execution_count": 122,
     "metadata": {},
     "output_type": "execute_result"
    }
   ],
   "source": [
    "x_axis = [ '2010s', '2000s', '1990s', '1980s', '1970s', '1960s', '1950s', '1940s', '1930s', '1920s']\n",
    "x_axis"
   ]
  },
  {
   "cell_type": "code",
   "execution_count": 123,
   "id": "1526d5ee",
   "metadata": {},
   "outputs": [
    {
     "data": {
      "image/png": "[encoded data removed]",
      "text/plain": [
       "<Figure size 864x576 with 1 Axes>"
      ]
     },
     "metadata": {
      "needs_background": "light"
     },
     "output_type": "display_data"
    }
   ],
   "source": [
    "fig, ax = plt.subplots(figsize =(12, 8))\n",
    "ax.set_xlabel(\"Release_Year\")\n",
    "ax.set_ylabel(\"Movies And TV Shows\")\n",
    "ax.set_title(\"Movies and TV Shows Total  Over The Decades\")\n",
    "ax.plot(x_axis, y_axis1, marker = \"o\", linestyle = \"-\", color = \"Orange\", label = \"Movies\")\n",
    "ax.plot(x_axis, y_axis2, marker = \"o\", linestyle = \"-\", color = \"Green\", label = \"TV Shows\")\n",
    "plt.legend(loc=\"upper left\")\n",
    "plt.show()"
   ]
  },
  {
   "cell_type": "markdown",
   "id": "cf6cd4e8",
   "metadata": {},
   "source": [
    "This Line Chart shows that the 2010 decade, which represent the period 2012 to 2021 in this case had the highest number of movies and TV shows released. It also showed that the 1930s had no releases. From this chart we can also observe a gradual increase in netflix movies and TV shows releases over the decades from 1920s to 2010s. "
   ]
  },
  {
   "cell_type": "code",
   "execution_count": 124,
   "id": "b7e0f6b7",
   "metadata": {},
   "outputs": [
    {
     "data": {
      "text/plain": [
       "([<matplotlib.axis.XTick at 0x207e5258640>,\n",
       "  <matplotlib.axis.XTick at 0x207e5258610>,\n",
       "  <matplotlib.axis.XTick at 0x207e523b250>,\n",
       "  <matplotlib.axis.XTick at 0x207e53119d0>,\n",
       "  <matplotlib.axis.XTick at 0x207e5291160>,\n",
       "  <matplotlib.axis.XTick at 0x207e52918b0>,\n",
       "  <matplotlib.axis.XTick at 0x207e5263100>,\n",
       "  <matplotlib.axis.XTick at 0x207e5263790>,\n",
       "  <matplotlib.axis.XTick at 0x207e52916d0>,\n",
       "  <matplotlib.axis.XTick at 0x207e53116a0>],\n",
       " [Text(0.25, 0, '2010s'),\n",
       "  Text(1.25, 0, '2000s'),\n",
       "  Text(2.25, 0, '1990s'),\n",
       "  Text(3.25, 0, '1980s'),\n",
       "  Text(4.25, 0, '1970s'),\n",
       "  Text(5.25, 0, '1960s'),\n",
       "  Text(6.25, 0, '1950s'),\n",
       "  Text(7.25, 0, '1940s'),\n",
       "  Text(8.25, 0, '1930s'),\n",
       "  Text(9.25, 0, '1920s')])"
      ]
     },
     "execution_count": 124,
     "metadata": {},
     "output_type": "execute_result"
    },
    {
     "data": {
      "image/png": "[encoded data removed]",
      "text/plain": [
       "<Figure size 864x576 with 2 Axes>"
      ]
     },
     "metadata": {
      "needs_background": "light"
     },
     "output_type": "display_data"
    }
   ],
   "source": [
    "fig, ax = plt.subplots(figsize =(12, 8))\n",
    "X = np.arange(10)\n",
    "ax = fig.add_axes([0,0,1,1])\n",
    "ax.bar(X + 0.00, y_axis1, color = 'Orange', width = 0.25,  label = \"Movies\")\n",
    "ax.bar(X + 0.25, y_axis2, color = 'Green', width = 0.25,  label = \"TV Shows\")\n",
    "plt.legend(loc=\"upper left\")\n",
    "ax.set_xlabel(\"Release_Year\")\n",
    "ax.set_ylabel(\"Movies And TV Shows\")\n",
    "ax.set_title(\"Movies and TV Shows Total  Over The Decades\")\n",
    "plt.xticks([r + 0.25 for r in range(10)], \n",
    "        ['2010s', '2000s', '1990s', '1980s', '1970s', '1960s', '1950s', '1940s', '1930s', '1920s'])"
   ]
  },
  {
   "cell_type": "markdown",
   "id": "bd6f2d78",
   "metadata": {},
   "source": [
    "This Chart shows that the 2010 decade, which represent the period 2012 to 2021 in this case had the highest number of movies and TV shows released. It also showed that the 1930s had no releases. From this chart we can also observe a gradual increase in netflix movies and TV shows releases over the decades from 1920s to 2010s. "
   ]
  },
  {
   "cell_type": "code",
   "execution_count": null,
   "id": "e704f329",
   "metadata": {},
   "outputs": [],
   "source": []
  }
 ],
 "metadata": {
  "kernelspec": {
   "display_name": "Python 3 (ipykernel)",
   "language": "python",
   "name": "python3"
  },
  "language_info": {
   "codemirror_mode": {
    "name": "ipython",
    "version": 3
   },
   "file_extension": ".py",
   "mimetype": "text/x-python",
   "name": "python",
   "nbconvert_exporter": "python",
   "pygments_lexer": "ipython3",
   "version": "3.8.12"
  }
 },
 "nbformat": 4,
 "nbformat_minor": 5
}
